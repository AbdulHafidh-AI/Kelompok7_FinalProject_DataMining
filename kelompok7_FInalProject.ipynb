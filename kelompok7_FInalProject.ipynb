{
  "cells": [
    {
      "cell_type": "markdown",
      "metadata": {
        "id": "view-in-github",
        "colab_type": "text"
      },
      "source": [
        "<a href=\"https://colab.research.google.com/github/AbdulHafidh-AI/Kelompok7_FinalProject_DataMining/blob/main/kelompok7_FInalProject.ipynb\" target=\"_parent\"><img src=\"https://colab.research.google.com/assets/colab-badge.svg\" alt=\"Open In Colab\"/></a>"
      ]
    },
    {
      "cell_type": "markdown",
      "metadata": {
        "id": "78YBq4_CVLJZ"
      },
      "source": [
        "# Projek yang dikerjakan oleh kelompok 7 \n",
        "\n",
        "\n",
        "\n",
        "# Topik Klasifikasi\n",
        "\n",
        "\n",
        "<p> Kami dari wilayah Consigliere ingin melakukan klasifikasi terhadap jenis drug  </p>\n",
        "\n",
        "\n",
        "<p> Projek ini dibuat di istana Consigliere 🏰</p>\n",
        "\n",
        "<p> Anggota Kelompok Consigliere </p>\n",
        "\n",
        "<ul>\n",
        "<li>Muhammad Rudy Hidayat (2008107010002) 😷 </li>\n",
        "<li>Abdul Hafidh (20081070100056) 😷 </li>\n",
        "<li>Teuku Nabil Muhammad Dhuha (2008107010004) 😷</li>\n",
        "</ul>\n",
        "\n",
        "\n",
        "\n",
        "<p> Tujuan dari projek ini adalah untuk mengklasifikasi obat-obatan dengan golongannya masing-masing  </p>\n",
        "\n",
        "<p> Berikut ini adalah metode klasifikasi yang kami gunakan </p>\n",
        "\n",
        "<ul>\n",
        "<li> KNN (K-Nearest Neighbour) </li>\n",
        "<li> Naive Bayessian</li>\n",
        "<li> Decision Tree </li>\n",
        "<li> SVM </li>\n",
        "<li> Random Forest </li>\n",
        "</ul>\n",
        "\n",
        "\n"
      ]
    },
    {
      "cell_type": "markdown",
      "source": [
        "# 1. Exploratotry Data Analysis\n",
        "\n",
        "\n",
        "<p> Exploratory Data Analysis disini bertujuan dalam melihat segala hal tentang data yang dimana kita dapat mengetahui apakah terdapat data null,banyak outlier,noisy dan lain -lain </p>"
      ],
      "metadata": {
        "id": "Dh_O6GvKVS1P"
      }
    },
    {
      "cell_type": "code",
      "execution_count": null,
      "metadata": {
        "id": "URFQhMJkVLJc"
      },
      "outputs": [],
      "source": [
        "# Import library \n",
        "import pandas as pd"
      ]
    },
    {
      "cell_type": "code",
      "source": [
        "# Membaca dataframe\n",
        "\n",
        "df = pd.read_csv(\"https://raw.githubusercontent.com/Teuku-Nabil/Datasests/main/drug200.csv\")"
      ],
      "metadata": {
        "id": "dZzWW1ZvjURi"
      },
      "execution_count": null,
      "outputs": []
    },
    {
      "cell_type": "code",
      "source": [
        "df.head()"
      ],
      "metadata": {
        "colab": {
          "base_uri": "https://localhost:8080/",
          "height": 206
        },
        "id": "TxtlWStjZ2hN",
        "outputId": "24fd8ec8-d5ed-41e3-80cc-f0c4fd546ce5"
      },
      "execution_count": null,
      "outputs": [
        {
          "output_type": "execute_result",
          "data": {
            "text/plain": [
              "   Age Sex      BP Cholesterol  Na_to_K   Drug\n",
              "0   23   F    HIGH        HIGH   25.355  DrugY\n",
              "1   47   M     LOW        HIGH   13.093  drugC\n",
              "2   47   M     LOW        HIGH   10.114  drugC\n",
              "3   28   F  NORMAL        HIGH    7.798  drugX\n",
              "4   61   F     LOW        HIGH   18.043  DrugY"
            ],
            "text/html": [
              "\n",
              "  <div id=\"df-e4909b06-6d94-4b24-9994-2aadf009dc7c\">\n",
              "    <div class=\"colab-df-container\">\n",
              "      <div>\n",
              "<style scoped>\n",
              "    .dataframe tbody tr th:only-of-type {\n",
              "        vertical-align: middle;\n",
              "    }\n",
              "\n",
              "    .dataframe tbody tr th {\n",
              "        vertical-align: top;\n",
              "    }\n",
              "\n",
              "    .dataframe thead th {\n",
              "        text-align: right;\n",
              "    }\n",
              "</style>\n",
              "<table border=\"1\" class=\"dataframe\">\n",
              "  <thead>\n",
              "    <tr style=\"text-align: right;\">\n",
              "      <th></th>\n",
              "      <th>Age</th>\n",
              "      <th>Sex</th>\n",
              "      <th>BP</th>\n",
              "      <th>Cholesterol</th>\n",
              "      <th>Na_to_K</th>\n",
              "      <th>Drug</th>\n",
              "    </tr>\n",
              "  </thead>\n",
              "  <tbody>\n",
              "    <tr>\n",
              "      <th>0</th>\n",
              "      <td>23</td>\n",
              "      <td>F</td>\n",
              "      <td>HIGH</td>\n",
              "      <td>HIGH</td>\n",
              "      <td>25.355</td>\n",
              "      <td>DrugY</td>\n",
              "    </tr>\n",
              "    <tr>\n",
              "      <th>1</th>\n",
              "      <td>47</td>\n",
              "      <td>M</td>\n",
              "      <td>LOW</td>\n",
              "      <td>HIGH</td>\n",
              "      <td>13.093</td>\n",
              "      <td>drugC</td>\n",
              "    </tr>\n",
              "    <tr>\n",
              "      <th>2</th>\n",
              "      <td>47</td>\n",
              "      <td>M</td>\n",
              "      <td>LOW</td>\n",
              "      <td>HIGH</td>\n",
              "      <td>10.114</td>\n",
              "      <td>drugC</td>\n",
              "    </tr>\n",
              "    <tr>\n",
              "      <th>3</th>\n",
              "      <td>28</td>\n",
              "      <td>F</td>\n",
              "      <td>NORMAL</td>\n",
              "      <td>HIGH</td>\n",
              "      <td>7.798</td>\n",
              "      <td>drugX</td>\n",
              "    </tr>\n",
              "    <tr>\n",
              "      <th>4</th>\n",
              "      <td>61</td>\n",
              "      <td>F</td>\n",
              "      <td>LOW</td>\n",
              "      <td>HIGH</td>\n",
              "      <td>18.043</td>\n",
              "      <td>DrugY</td>\n",
              "    </tr>\n",
              "  </tbody>\n",
              "</table>\n",
              "</div>\n",
              "      <button class=\"colab-df-convert\" onclick=\"convertToInteractive('df-e4909b06-6d94-4b24-9994-2aadf009dc7c')\"\n",
              "              title=\"Convert this dataframe to an interactive table.\"\n",
              "              style=\"display:none;\">\n",
              "        \n",
              "  <svg xmlns=\"http://www.w3.org/2000/svg\" height=\"24px\"viewBox=\"0 0 24 24\"\n",
              "       width=\"24px\">\n",
              "    <path d=\"M0 0h24v24H0V0z\" fill=\"none\"/>\n",
              "    <path d=\"M18.56 5.44l.94 2.06.94-2.06 2.06-.94-2.06-.94-.94-2.06-.94 2.06-2.06.94zm-11 1L8.5 8.5l.94-2.06 2.06-.94-2.06-.94L8.5 2.5l-.94 2.06-2.06.94zm10 10l.94 2.06.94-2.06 2.06-.94-2.06-.94-.94-2.06-.94 2.06-2.06.94z\"/><path d=\"M17.41 7.96l-1.37-1.37c-.4-.4-.92-.59-1.43-.59-.52 0-1.04.2-1.43.59L10.3 9.45l-7.72 7.72c-.78.78-.78 2.05 0 2.83L4 21.41c.39.39.9.59 1.41.59.51 0 1.02-.2 1.41-.59l7.78-7.78 2.81-2.81c.8-.78.8-2.07 0-2.86zM5.41 20L4 18.59l7.72-7.72 1.47 1.35L5.41 20z\"/>\n",
              "  </svg>\n",
              "      </button>\n",
              "      \n",
              "  <style>\n",
              "    .colab-df-container {\n",
              "      display:flex;\n",
              "      flex-wrap:wrap;\n",
              "      gap: 12px;\n",
              "    }\n",
              "\n",
              "    .colab-df-convert {\n",
              "      background-color: #E8F0FE;\n",
              "      border: none;\n",
              "      border-radius: 50%;\n",
              "      cursor: pointer;\n",
              "      display: none;\n",
              "      fill: #1967D2;\n",
              "      height: 32px;\n",
              "      padding: 0 0 0 0;\n",
              "      width: 32px;\n",
              "    }\n",
              "\n",
              "    .colab-df-convert:hover {\n",
              "      background-color: #E2EBFA;\n",
              "      box-shadow: 0px 1px 2px rgba(60, 64, 67, 0.3), 0px 1px 3px 1px rgba(60, 64, 67, 0.15);\n",
              "      fill: #174EA6;\n",
              "    }\n",
              "\n",
              "    [theme=dark] .colab-df-convert {\n",
              "      background-color: #3B4455;\n",
              "      fill: #D2E3FC;\n",
              "    }\n",
              "\n",
              "    [theme=dark] .colab-df-convert:hover {\n",
              "      background-color: #434B5C;\n",
              "      box-shadow: 0px 1px 3px 1px rgba(0, 0, 0, 0.15);\n",
              "      filter: drop-shadow(0px 1px 2px rgba(0, 0, 0, 0.3));\n",
              "      fill: #FFFFFF;\n",
              "    }\n",
              "  </style>\n",
              "\n",
              "      <script>\n",
              "        const buttonEl =\n",
              "          document.querySelector('#df-e4909b06-6d94-4b24-9994-2aadf009dc7c button.colab-df-convert');\n",
              "        buttonEl.style.display =\n",
              "          google.colab.kernel.accessAllowed ? 'block' : 'none';\n",
              "\n",
              "        async function convertToInteractive(key) {\n",
              "          const element = document.querySelector('#df-e4909b06-6d94-4b24-9994-2aadf009dc7c');\n",
              "          const dataTable =\n",
              "            await google.colab.kernel.invokeFunction('convertToInteractive',\n",
              "                                                     [key], {});\n",
              "          if (!dataTable) return;\n",
              "\n",
              "          const docLinkHtml = 'Like what you see? Visit the ' +\n",
              "            '<a target=\"_blank\" href=https://colab.research.google.com/notebooks/data_table.ipynb>data table notebook</a>'\n",
              "            + ' to learn more about interactive tables.';\n",
              "          element.innerHTML = '';\n",
              "          dataTable['output_type'] = 'display_data';\n",
              "          await google.colab.output.renderOutput(dataTable, element);\n",
              "          const docLink = document.createElement('div');\n",
              "          docLink.innerHTML = docLinkHtml;\n",
              "          element.appendChild(docLink);\n",
              "        }\n",
              "      </script>\n",
              "    </div>\n",
              "  </div>\n",
              "  "
            ]
          },
          "metadata": {},
          "execution_count": 163
        }
      ]
    },
    {
      "cell_type": "code",
      "source": [
        "df.describe()"
      ],
      "metadata": {
        "colab": {
          "base_uri": "https://localhost:8080/",
          "height": 300
        },
        "id": "us04eWU6gl5B",
        "outputId": "62bc9c7e-daae-4bc6-d2f9-6d38f2637b87"
      },
      "execution_count": null,
      "outputs": [
        {
          "output_type": "execute_result",
          "data": {
            "text/plain": [
              "              Age     Na_to_K\n",
              "count  200.000000  200.000000\n",
              "mean    44.315000   16.084485\n",
              "std     16.544315    7.223956\n",
              "min     15.000000    6.269000\n",
              "25%     31.000000   10.445500\n",
              "50%     45.000000   13.936500\n",
              "75%     58.000000   19.380000\n",
              "max     74.000000   38.247000"
            ],
            "text/html": [
              "\n",
              "  <div id=\"df-9978db4d-f5e3-4529-89f6-71d16babaa05\">\n",
              "    <div class=\"colab-df-container\">\n",
              "      <div>\n",
              "<style scoped>\n",
              "    .dataframe tbody tr th:only-of-type {\n",
              "        vertical-align: middle;\n",
              "    }\n",
              "\n",
              "    .dataframe tbody tr th {\n",
              "        vertical-align: top;\n",
              "    }\n",
              "\n",
              "    .dataframe thead th {\n",
              "        text-align: right;\n",
              "    }\n",
              "</style>\n",
              "<table border=\"1\" class=\"dataframe\">\n",
              "  <thead>\n",
              "    <tr style=\"text-align: right;\">\n",
              "      <th></th>\n",
              "      <th>Age</th>\n",
              "      <th>Na_to_K</th>\n",
              "    </tr>\n",
              "  </thead>\n",
              "  <tbody>\n",
              "    <tr>\n",
              "      <th>count</th>\n",
              "      <td>200.000000</td>\n",
              "      <td>200.000000</td>\n",
              "    </tr>\n",
              "    <tr>\n",
              "      <th>mean</th>\n",
              "      <td>44.315000</td>\n",
              "      <td>16.084485</td>\n",
              "    </tr>\n",
              "    <tr>\n",
              "      <th>std</th>\n",
              "      <td>16.544315</td>\n",
              "      <td>7.223956</td>\n",
              "    </tr>\n",
              "    <tr>\n",
              "      <th>min</th>\n",
              "      <td>15.000000</td>\n",
              "      <td>6.269000</td>\n",
              "    </tr>\n",
              "    <tr>\n",
              "      <th>25%</th>\n",
              "      <td>31.000000</td>\n",
              "      <td>10.445500</td>\n",
              "    </tr>\n",
              "    <tr>\n",
              "      <th>50%</th>\n",
              "      <td>45.000000</td>\n",
              "      <td>13.936500</td>\n",
              "    </tr>\n",
              "    <tr>\n",
              "      <th>75%</th>\n",
              "      <td>58.000000</td>\n",
              "      <td>19.380000</td>\n",
              "    </tr>\n",
              "    <tr>\n",
              "      <th>max</th>\n",
              "      <td>74.000000</td>\n",
              "      <td>38.247000</td>\n",
              "    </tr>\n",
              "  </tbody>\n",
              "</table>\n",
              "</div>\n",
              "      <button class=\"colab-df-convert\" onclick=\"convertToInteractive('df-9978db4d-f5e3-4529-89f6-71d16babaa05')\"\n",
              "              title=\"Convert this dataframe to an interactive table.\"\n",
              "              style=\"display:none;\">\n",
              "        \n",
              "  <svg xmlns=\"http://www.w3.org/2000/svg\" height=\"24px\"viewBox=\"0 0 24 24\"\n",
              "       width=\"24px\">\n",
              "    <path d=\"M0 0h24v24H0V0z\" fill=\"none\"/>\n",
              "    <path d=\"M18.56 5.44l.94 2.06.94-2.06 2.06-.94-2.06-.94-.94-2.06-.94 2.06-2.06.94zm-11 1L8.5 8.5l.94-2.06 2.06-.94-2.06-.94L8.5 2.5l-.94 2.06-2.06.94zm10 10l.94 2.06.94-2.06 2.06-.94-2.06-.94-.94-2.06-.94 2.06-2.06.94z\"/><path d=\"M17.41 7.96l-1.37-1.37c-.4-.4-.92-.59-1.43-.59-.52 0-1.04.2-1.43.59L10.3 9.45l-7.72 7.72c-.78.78-.78 2.05 0 2.83L4 21.41c.39.39.9.59 1.41.59.51 0 1.02-.2 1.41-.59l7.78-7.78 2.81-2.81c.8-.78.8-2.07 0-2.86zM5.41 20L4 18.59l7.72-7.72 1.47 1.35L5.41 20z\"/>\n",
              "  </svg>\n",
              "      </button>\n",
              "      \n",
              "  <style>\n",
              "    .colab-df-container {\n",
              "      display:flex;\n",
              "      flex-wrap:wrap;\n",
              "      gap: 12px;\n",
              "    }\n",
              "\n",
              "    .colab-df-convert {\n",
              "      background-color: #E8F0FE;\n",
              "      border: none;\n",
              "      border-radius: 50%;\n",
              "      cursor: pointer;\n",
              "      display: none;\n",
              "      fill: #1967D2;\n",
              "      height: 32px;\n",
              "      padding: 0 0 0 0;\n",
              "      width: 32px;\n",
              "    }\n",
              "\n",
              "    .colab-df-convert:hover {\n",
              "      background-color: #E2EBFA;\n",
              "      box-shadow: 0px 1px 2px rgba(60, 64, 67, 0.3), 0px 1px 3px 1px rgba(60, 64, 67, 0.15);\n",
              "      fill: #174EA6;\n",
              "    }\n",
              "\n",
              "    [theme=dark] .colab-df-convert {\n",
              "      background-color: #3B4455;\n",
              "      fill: #D2E3FC;\n",
              "    }\n",
              "\n",
              "    [theme=dark] .colab-df-convert:hover {\n",
              "      background-color: #434B5C;\n",
              "      box-shadow: 0px 1px 3px 1px rgba(0, 0, 0, 0.15);\n",
              "      filter: drop-shadow(0px 1px 2px rgba(0, 0, 0, 0.3));\n",
              "      fill: #FFFFFF;\n",
              "    }\n",
              "  </style>\n",
              "\n",
              "      <script>\n",
              "        const buttonEl =\n",
              "          document.querySelector('#df-9978db4d-f5e3-4529-89f6-71d16babaa05 button.colab-df-convert');\n",
              "        buttonEl.style.display =\n",
              "          google.colab.kernel.accessAllowed ? 'block' : 'none';\n",
              "\n",
              "        async function convertToInteractive(key) {\n",
              "          const element = document.querySelector('#df-9978db4d-f5e3-4529-89f6-71d16babaa05');\n",
              "          const dataTable =\n",
              "            await google.colab.kernel.invokeFunction('convertToInteractive',\n",
              "                                                     [key], {});\n",
              "          if (!dataTable) return;\n",
              "\n",
              "          const docLinkHtml = 'Like what you see? Visit the ' +\n",
              "            '<a target=\"_blank\" href=https://colab.research.google.com/notebooks/data_table.ipynb>data table notebook</a>'\n",
              "            + ' to learn more about interactive tables.';\n",
              "          element.innerHTML = '';\n",
              "          dataTable['output_type'] = 'display_data';\n",
              "          await google.colab.output.renderOutput(dataTable, element);\n",
              "          const docLink = document.createElement('div');\n",
              "          docLink.innerHTML = docLinkHtml;\n",
              "          element.appendChild(docLink);\n",
              "        }\n",
              "      </script>\n",
              "    </div>\n",
              "  </div>\n",
              "  "
            ]
          },
          "metadata": {},
          "execution_count": 164
        }
      ]
    },
    {
      "cell_type": "code",
      "source": [
        "df.columns"
      ],
      "metadata": {
        "id": "CjVSUfUVtRSh",
        "outputId": "a16a9102-ad98-432e-cad1-9f892df453f3",
        "colab": {
          "base_uri": "https://localhost:8080/"
        }
      },
      "execution_count": null,
      "outputs": [
        {
          "output_type": "execute_result",
          "data": {
            "text/plain": [
              "Index(['Age', 'Sex', 'BP', 'Cholesterol', 'Na_to_K', 'Drug'], dtype='object')"
            ]
          },
          "metadata": {},
          "execution_count": 165
        }
      ]
    },
    {
      "cell_type": "markdown",
      "source": [
        "<p> Berikut ini adalah atribut pada dataset: </p>\n",
        "\n",
        "<ol>\n",
        "<li> Age </li>\n",
        "<li> Sex </li>\n",
        "<li> BP </li>\n",
        "<li> Cholesterol </li>\n",
        "<li> Na_to_K </li>\n",
        "</ol>\n",
        "\n",
        "<p> Untuk class labelnya adalah atribut Drug </p>\n",
        "\n",
        "<p> Berikut ini adalah deskripsi dari setiap drug (Class Label) : </p>\n",
        "\n",
        "\n",
        "1.   DrugA -->  mengobati tekanan darah tinggi\n",
        "2.   DrugB -->  terapi tekanan darah tinggi\n",
        "3.   DrugC -->  mengobati tekanan darah tinggi\n",
        "4.   DrugX -->  efeknya menenangkan rasa cemas\n",
        "5.   DrugY -->  meningkatkan tekanan darah\n"
      ],
      "metadata": {
        "id": "F2lj4Ud7JoZY"
      }
    },
    {
      "cell_type": "code",
      "source": [
        "df['Sex'].unique()"
      ],
      "metadata": {
        "colab": {
          "base_uri": "https://localhost:8080/"
        },
        "id": "n45SaCrezWYd",
        "outputId": "a0721765-6de6-4d5a-bf18-bbfcd41b77a8"
      },
      "execution_count": null,
      "outputs": [
        {
          "output_type": "execute_result",
          "data": {
            "text/plain": [
              "array(['F', 'M'], dtype=object)"
            ]
          },
          "metadata": {},
          "execution_count": 166
        }
      ]
    },
    {
      "cell_type": "code",
      "source": [
        "df['BP'].unique()"
      ],
      "metadata": {
        "colab": {
          "base_uri": "https://localhost:8080/"
        },
        "id": "R5VWopLrzbO3",
        "outputId": "e04b9af1-89ff-4028-e01f-c651a06750f0"
      },
      "execution_count": null,
      "outputs": [
        {
          "output_type": "execute_result",
          "data": {
            "text/plain": [
              "array(['HIGH', 'LOW', 'NORMAL'], dtype=object)"
            ]
          },
          "metadata": {},
          "execution_count": 167
        }
      ]
    },
    {
      "cell_type": "code",
      "source": [
        "df['Cholesterol'].unique()"
      ],
      "metadata": {
        "colab": {
          "base_uri": "https://localhost:8080/"
        },
        "id": "7k-7WAL-zeoP",
        "outputId": "dc18a413-7756-4465-dcd4-4d7b305a24dc"
      },
      "execution_count": null,
      "outputs": [
        {
          "output_type": "execute_result",
          "data": {
            "text/plain": [
              "array(['HIGH', 'NORMAL'], dtype=object)"
            ]
          },
          "metadata": {},
          "execution_count": 168
        }
      ]
    },
    {
      "cell_type": "code",
      "source": [
        "df.isnull().sum()"
      ],
      "metadata": {
        "id": "BycqCm1qWCqa",
        "colab": {
          "base_uri": "https://localhost:8080/"
        },
        "outputId": "13b9b78c-e4e9-4c9b-dea9-a4e93c39f313"
      },
      "execution_count": null,
      "outputs": [
        {
          "output_type": "execute_result",
          "data": {
            "text/plain": [
              "Age            0\n",
              "Sex            0\n",
              "BP             0\n",
              "Cholesterol    0\n",
              "Na_to_K        0\n",
              "Drug           0\n",
              "dtype: int64"
            ]
          },
          "metadata": {},
          "execution_count": 169
        }
      ]
    },
    {
      "cell_type": "markdown",
      "source": [
        "<p> Dapat dilihat bahwa pada dataset kita tidak ada yang NULL sehingga kita tidak perlu mengisi atau menghilangkan data yang tidak ada, Maka dapat dilihat bahwa dataset kita sudah bagus </p>"
      ],
      "metadata": {
        "id": "ZzhJtBy-JCyB"
      }
    },
    {
      "cell_type": "markdown",
      "source": [
        "<p> Sebelum kita membangun model alangkah baiknya jika kita melakukan teknik Label Encoding utnuk data yang bertipe kategorik agar library sklearn dapat dengan mudah memprosesnya tanpa adanya error </p>\n",
        "\n",
        "\n",
        "<p> Di tahap ini kita seperti melakukan mapping untuk ketiga atribut yakni atribut Sex,BP, dan Cholesterol <P>\n"
      ],
      "metadata": {
        "id": "SEc5Tqwvx-PX"
      }
    },
    {
      "cell_type": "code",
      "source": [
        "!pip install category_encoders"
      ],
      "metadata": {
        "colab": {
          "base_uri": "https://localhost:8080/"
        },
        "id": "HP5NBBoDyb1u",
        "outputId": "6714c6b5-4790-4cf7-8b71-af8d674b6c03"
      },
      "execution_count": null,
      "outputs": [
        {
          "output_type": "stream",
          "name": "stdout",
          "text": [
            "Looking in indexes: https://pypi.org/simple, https://us-python.pkg.dev/colab-wheels/public/simple/\n",
            "Requirement already satisfied: category_encoders in /usr/local/lib/python3.7/dist-packages (2.5.1.post0)\n",
            "Requirement already satisfied: statsmodels>=0.9.0 in /usr/local/lib/python3.7/dist-packages (from category_encoders) (0.12.2)\n",
            "Requirement already satisfied: pandas>=1.0.5 in /usr/local/lib/python3.7/dist-packages (from category_encoders) (1.3.5)\n",
            "Requirement already satisfied: scipy>=1.0.0 in /usr/local/lib/python3.7/dist-packages (from category_encoders) (1.7.3)\n",
            "Requirement already satisfied: numpy>=1.14.0 in /usr/local/lib/python3.7/dist-packages (from category_encoders) (1.21.6)\n",
            "Requirement already satisfied: patsy>=0.5.1 in /usr/local/lib/python3.7/dist-packages (from category_encoders) (0.5.3)\n",
            "Requirement already satisfied: scikit-learn>=0.20.0 in /usr/local/lib/python3.7/dist-packages (from category_encoders) (1.0.2)\n",
            "Requirement already satisfied: pytz>=2017.3 in /usr/local/lib/python3.7/dist-packages (from pandas>=1.0.5->category_encoders) (2022.6)\n",
            "Requirement already satisfied: python-dateutil>=2.7.3 in /usr/local/lib/python3.7/dist-packages (from pandas>=1.0.5->category_encoders) (2.8.2)\n",
            "Requirement already satisfied: six in /usr/local/lib/python3.7/dist-packages (from patsy>=0.5.1->category_encoders) (1.15.0)\n",
            "Requirement already satisfied: joblib>=0.11 in /usr/local/lib/python3.7/dist-packages (from scikit-learn>=0.20.0->category_encoders) (1.2.0)\n",
            "Requirement already satisfied: threadpoolctl>=2.0.0 in /usr/local/lib/python3.7/dist-packages (from scikit-learn>=0.20.0->category_encoders) (3.1.0)\n"
          ]
        }
      ]
    },
    {
      "cell_type": "code",
      "source": [
        "# import category_encoders as ce\n",
        "# import pandas as pd\n",
        " \n",
        "\n",
        "# # Melakukan teknik label encoder untuk 3 atribut yaitu atribut BP, Atribut Cholesterol, dan Atribut Sex \n",
        "# \"\"\"\n",
        "# None --> 0\n",
        "# LOW --> 1\n",
        "# NORMAL --> 2\n",
        "# HIGH --> 3\n",
        "\n",
        "# \"\"\"\n",
        "# encoder_BP = ce.OrdinalEncoder(cols=['BP'],return_df=True,\n",
        "#                            mapping=[{'col':'BP',\n",
        "#                                     'mapping':{'None':0,'LOW':1,'NORMAL':2,'HIGH':3}}])\n",
        "\n",
        "\n",
        "# \"\"\"\n",
        "# NORMAL --> 1\n",
        "# HIGH --> 2\n",
        "# \"\"\"\n",
        "\n",
        "# encoder_Cholesterol = ce.OrdinalEncoder(cols=['Cholesterol'],return_df=True,\n",
        "#                            mapping=[{'col':'Cholesterol',\n",
        "#                                     'mapping':{'NORMAL':1,'HIGH':2}}])\n",
        "\n",
        "# \"\"\"\n",
        "# F --> 1\n",
        "# M --> 2\n",
        "\n",
        "# \"\"\"\n",
        "\n",
        "# encoder_Sex = ce.OrdinalEncoder(cols=['Sex'],return_df=True,\n",
        "#                            mapping=[{'col':'Sex',\n",
        "#                                     'mapping':{'F':1,'M':2}}])\n",
        "\n",
        "# df = encoder_BP.fit_transform(df)\n",
        "\n",
        "# df = encoder_Cholesterol.fit_transform(df)\n",
        "\n",
        "# df = encoder_Sex.fit_transform(df)\n",
        "\n",
        "\n",
        "# df\n",
        "\n",
        "\n",
        "\n",
        "\n"
      ],
      "metadata": {
        "id": "vi7h3d_8yKFa"
      },
      "execution_count": null,
      "outputs": []
    },
    {
      "cell_type": "code",
      "source": [
        "from sklearn.preprocessing import LabelEncoder\n",
        "\n",
        "def label_encoder(y):\n",
        "    le = LabelEncoder()\n",
        "    df[y] = le.fit_transform(df[y])\n",
        "\n",
        "label_list = [\"Sex\",\"BP\",\"Cholesterol\",\"Na_to_K\",\"Drug\"]\n",
        "\n",
        "for l in label_list:\n",
        "    label_encoder(l)\n",
        "\n",
        "df.head()"
      ],
      "metadata": {
        "colab": {
          "base_uri": "https://localhost:8080/",
          "height": 206
        },
        "id": "cKIJ8ZmkxuU2",
        "outputId": "790d28a2-6790-4cd2-915f-e5215b791db3"
      },
      "execution_count": null,
      "outputs": [
        {
          "output_type": "execute_result",
          "data": {
            "text/plain": [
              "   Age  Sex  BP  Cholesterol  Na_to_K  Drug\n",
              "0   23    0   0            0      167     0\n",
              "1   47    1   1            0       89     3\n",
              "2   47    1   1            0       43     3\n",
              "3   28    0   2            0       10     4\n",
              "4   61    0   1            0      133     0"
            ],
            "text/html": [
              "\n",
              "  <div id=\"df-2deaddca-13df-4a06-abe4-8440d322299b\">\n",
              "    <div class=\"colab-df-container\">\n",
              "      <div>\n",
              "<style scoped>\n",
              "    .dataframe tbody tr th:only-of-type {\n",
              "        vertical-align: middle;\n",
              "    }\n",
              "\n",
              "    .dataframe tbody tr th {\n",
              "        vertical-align: top;\n",
              "    }\n",
              "\n",
              "    .dataframe thead th {\n",
              "        text-align: right;\n",
              "    }\n",
              "</style>\n",
              "<table border=\"1\" class=\"dataframe\">\n",
              "  <thead>\n",
              "    <tr style=\"text-align: right;\">\n",
              "      <th></th>\n",
              "      <th>Age</th>\n",
              "      <th>Sex</th>\n",
              "      <th>BP</th>\n",
              "      <th>Cholesterol</th>\n",
              "      <th>Na_to_K</th>\n",
              "      <th>Drug</th>\n",
              "    </tr>\n",
              "  </thead>\n",
              "  <tbody>\n",
              "    <tr>\n",
              "      <th>0</th>\n",
              "      <td>23</td>\n",
              "      <td>0</td>\n",
              "      <td>0</td>\n",
              "      <td>0</td>\n",
              "      <td>167</td>\n",
              "      <td>0</td>\n",
              "    </tr>\n",
              "    <tr>\n",
              "      <th>1</th>\n",
              "      <td>47</td>\n",
              "      <td>1</td>\n",
              "      <td>1</td>\n",
              "      <td>0</td>\n",
              "      <td>89</td>\n",
              "      <td>3</td>\n",
              "    </tr>\n",
              "    <tr>\n",
              "      <th>2</th>\n",
              "      <td>47</td>\n",
              "      <td>1</td>\n",
              "      <td>1</td>\n",
              "      <td>0</td>\n",
              "      <td>43</td>\n",
              "      <td>3</td>\n",
              "    </tr>\n",
              "    <tr>\n",
              "      <th>3</th>\n",
              "      <td>28</td>\n",
              "      <td>0</td>\n",
              "      <td>2</td>\n",
              "      <td>0</td>\n",
              "      <td>10</td>\n",
              "      <td>4</td>\n",
              "    </tr>\n",
              "    <tr>\n",
              "      <th>4</th>\n",
              "      <td>61</td>\n",
              "      <td>0</td>\n",
              "      <td>1</td>\n",
              "      <td>0</td>\n",
              "      <td>133</td>\n",
              "      <td>0</td>\n",
              "    </tr>\n",
              "  </tbody>\n",
              "</table>\n",
              "</div>\n",
              "      <button class=\"colab-df-convert\" onclick=\"convertToInteractive('df-2deaddca-13df-4a06-abe4-8440d322299b')\"\n",
              "              title=\"Convert this dataframe to an interactive table.\"\n",
              "              style=\"display:none;\">\n",
              "        \n",
              "  <svg xmlns=\"http://www.w3.org/2000/svg\" height=\"24px\"viewBox=\"0 0 24 24\"\n",
              "       width=\"24px\">\n",
              "    <path d=\"M0 0h24v24H0V0z\" fill=\"none\"/>\n",
              "    <path d=\"M18.56 5.44l.94 2.06.94-2.06 2.06-.94-2.06-.94-.94-2.06-.94 2.06-2.06.94zm-11 1L8.5 8.5l.94-2.06 2.06-.94-2.06-.94L8.5 2.5l-.94 2.06-2.06.94zm10 10l.94 2.06.94-2.06 2.06-.94-2.06-.94-.94-2.06-.94 2.06-2.06.94z\"/><path d=\"M17.41 7.96l-1.37-1.37c-.4-.4-.92-.59-1.43-.59-.52 0-1.04.2-1.43.59L10.3 9.45l-7.72 7.72c-.78.78-.78 2.05 0 2.83L4 21.41c.39.39.9.59 1.41.59.51 0 1.02-.2 1.41-.59l7.78-7.78 2.81-2.81c.8-.78.8-2.07 0-2.86zM5.41 20L4 18.59l7.72-7.72 1.47 1.35L5.41 20z\"/>\n",
              "  </svg>\n",
              "      </button>\n",
              "      \n",
              "  <style>\n",
              "    .colab-df-container {\n",
              "      display:flex;\n",
              "      flex-wrap:wrap;\n",
              "      gap: 12px;\n",
              "    }\n",
              "\n",
              "    .colab-df-convert {\n",
              "      background-color: #E8F0FE;\n",
              "      border: none;\n",
              "      border-radius: 50%;\n",
              "      cursor: pointer;\n",
              "      display: none;\n",
              "      fill: #1967D2;\n",
              "      height: 32px;\n",
              "      padding: 0 0 0 0;\n",
              "      width: 32px;\n",
              "    }\n",
              "\n",
              "    .colab-df-convert:hover {\n",
              "      background-color: #E2EBFA;\n",
              "      box-shadow: 0px 1px 2px rgba(60, 64, 67, 0.3), 0px 1px 3px 1px rgba(60, 64, 67, 0.15);\n",
              "      fill: #174EA6;\n",
              "    }\n",
              "\n",
              "    [theme=dark] .colab-df-convert {\n",
              "      background-color: #3B4455;\n",
              "      fill: #D2E3FC;\n",
              "    }\n",
              "\n",
              "    [theme=dark] .colab-df-convert:hover {\n",
              "      background-color: #434B5C;\n",
              "      box-shadow: 0px 1px 3px 1px rgba(0, 0, 0, 0.15);\n",
              "      filter: drop-shadow(0px 1px 2px rgba(0, 0, 0, 0.3));\n",
              "      fill: #FFFFFF;\n",
              "    }\n",
              "  </style>\n",
              "\n",
              "      <script>\n",
              "        const buttonEl =\n",
              "          document.querySelector('#df-2deaddca-13df-4a06-abe4-8440d322299b button.colab-df-convert');\n",
              "        buttonEl.style.display =\n",
              "          google.colab.kernel.accessAllowed ? 'block' : 'none';\n",
              "\n",
              "        async function convertToInteractive(key) {\n",
              "          const element = document.querySelector('#df-2deaddca-13df-4a06-abe4-8440d322299b');\n",
              "          const dataTable =\n",
              "            await google.colab.kernel.invokeFunction('convertToInteractive',\n",
              "                                                     [key], {});\n",
              "          if (!dataTable) return;\n",
              "\n",
              "          const docLinkHtml = 'Like what you see? Visit the ' +\n",
              "            '<a target=\"_blank\" href=https://colab.research.google.com/notebooks/data_table.ipynb>data table notebook</a>'\n",
              "            + ' to learn more about interactive tables.';\n",
              "          element.innerHTML = '';\n",
              "          dataTable['output_type'] = 'display_data';\n",
              "          await google.colab.output.renderOutput(dataTable, element);\n",
              "          const docLink = document.createElement('div');\n",
              "          docLink.innerHTML = docLinkHtml;\n",
              "          element.appendChild(docLink);\n",
              "        }\n",
              "      </script>\n",
              "    </div>\n",
              "  </div>\n",
              "  "
            ]
          },
          "metadata": {},
          "execution_count": 172
        }
      ]
    },
    {
      "cell_type": "markdown",
      "source": [
        "# 2. Split data training and Testing"
      ],
      "metadata": {
        "id": "S9XrN17TVgI0"
      }
    },
    {
      "cell_type": "code",
      "source": [
        "# Pada tahap ini kita akan membagi data training sebanyak 70 % dan data testing sebanyak 30 %\n",
        "from sklearn.model_selection import train_test_split\n",
        "\n",
        "\n",
        "# Memisahkan Atribut dan label\n",
        "X = df.drop('Drug', axis = 1)\n",
        "y = df['Drug']\n",
        "\n",
        "# melakukan pemisahan data\n",
        "X_train, X_test, y_train, y_test = train_test_split(X, y, test_size=0.3, random_state=0)"
      ],
      "metadata": {
        "id": "ua00YBXDWDQS"
      },
      "execution_count": null,
      "outputs": []
    },
    {
      "cell_type": "markdown",
      "source": [
        "# 3. Metode Klasifikasi"
      ],
      "metadata": {
        "id": "TAYOcPUsVnh4"
      }
    },
    {
      "cell_type": "code",
      "source": [
        "# karena ada banyak model yang kita bangun alangkah baiknya jika kita membuat variabel untuk menampung score pada model yang kita buat\n",
        "metode = []\n",
        "score = []\n",
        "result_dict = {\n",
        "    \"metode\" : metode,\n",
        "    \"score\" : score\n",
        "\n",
        "}"
      ],
      "metadata": {
        "id": "JYTSxy__B1YO"
      },
      "execution_count": null,
      "outputs": []
    },
    {
      "cell_type": "markdown",
      "source": [
        "## 3.1 Decision Tree"
      ],
      "metadata": {
        "id": "JgMp0uxVpXpP"
      }
    },
    {
      "cell_type": "code",
      "source": [
        "# Membangun model Decision Tree\n",
        "from sklearn.tree import DecisionTreeClassifier\n",
        "\n",
        "# Membuat Variabel baru untuk training agar tidak tertimpa dengan variabel training yang awal\n",
        "X_train_modelDecisionTree = X_train \n",
        "y_train_modelDecisionTree = y_train\n",
        "\n",
        "\n",
        "modelDecisionTree =DecisionTreeClassifier(max_depth=3)\n",
        "modelDecisionTree.fit(X_train_modelDecisionTree, y_train_modelDecisionTree)"
      ],
      "metadata": {
        "id": "u4XspG9TvXM5",
        "colab": {
          "base_uri": "https://localhost:8080/"
        },
        "outputId": "9afb460d-0351-49a0-fc12-059eadc42540"
      },
      "execution_count": null,
      "outputs": [
        {
          "output_type": "execute_result",
          "data": {
            "text/plain": [
              "DecisionTreeClassifier(max_depth=3)"
            ]
          },
          "metadata": {},
          "execution_count": 175
        }
      ]
    },
    {
      "cell_type": "markdown",
      "source": [
        "## 3.1.1 Membuat Decision Tree"
      ],
      "metadata": {
        "id": "BeF9XfYY-jym"
      }
    },
    {
      "cell_type": "code",
      "source": [
        "import matplotlib.pyplot as plt\n",
        "from sklearn import tree\n",
        "\n",
        "plt.rcParams['figure.dpi'] = 45\n",
        "plt.subplots(figsize=(24,20))\n",
        "tree.plot_tree(modelDecisionTree, fontsize=20)\n",
        "plt.show()"
      ],
      "metadata": {
        "id": "-g-hLZhB7gmf",
        "colab": {
          "base_uri": "https://localhost:8080/",
          "height": 698
        },
        "outputId": "68278dec-a80a-4e2e-b6a0-e9951e87e947"
      },
      "execution_count": null,
      "outputs": [
        {
          "output_type": "display_data",
          "data": {
            "text/plain": [
              "<Figure size 1080x900 with 1 Axes>"
            ],
            "image/png": "[encoded data removed]"
          },
          "metadata": {
            "needs_background": "light"
          }
        }
      ]
    },
    {
      "cell_type": "markdown",
      "source": [
        "## 3.2 Naive Bayessian "
      ],
      "metadata": {
        "id": "Z-UpTI6opbsA"
      }
    },
    {
      "cell_type": "code",
      "source": [
        "from sklearn.naive_bayes import GaussianNB\n",
        "\n",
        "# Membuat Variabel baru untuk training agar tidak tertimpa dengan variabel training yang awal\n",
        "X_train_modelNaiveBayessian = X_train \n",
        "y_train_modelNaiveBayessian = y_train\n",
        "\n",
        "# Membuat variabel baru untuk testing agar tidak tertimpa oleh variabel awal\n",
        "X_test_modelNaiveBayessian = X_test\n",
        "y_test_modelNaiveBayessian = y_test\n",
        "\n",
        "modelNaiveBayessian = GaussianNB()\n",
        "modelNaiveBayessian.fit(X_train_modelNaiveBayessian, y_train_modelNaiveBayessian)\n",
        "\n",
        "y_pred_modelNaiveBayessian = modelNaiveBayessian.predict(X_test_modelNaiveBayessian)"
      ],
      "metadata": {
        "id": "4p7uIVlFlv6g"
      },
      "execution_count": null,
      "outputs": []
    },
    {
      "cell_type": "markdown",
      "source": [
        "## 3.3 Support Vector Machine"
      ],
      "metadata": {
        "id": "OJLaCTPTpiDK"
      }
    },
    {
      "cell_type": "code",
      "source": [
        "# logistic regression for multi-class classification using a one-vs-rest\n",
        "from sklearn.datasets import make_classification\n",
        "from sklearn.linear_model import LogisticRegression\n",
        "from sklearn.multiclass import OneVsRestClassifier\n",
        "#Variabel Baru\n",
        "X_train_modelSVM = X_train \n",
        "y_train_modelSVM = y_train\n",
        "X_test_modelSVM = X_test\n",
        "y_test_modelSVM = y_test\n",
        "# define model\n",
        "modelSVM = LogisticRegression()\n",
        "model1=LogisticRegression().fit(X_test_modelSVM, y_test_modelSVM)\n",
        "# define the ovr strategy\n",
        "ovr = OneVsRestClassifier(modelSVM)\n",
        "# fit model\n",
        "ovr.fit(X, y)\n",
        "# make predictions\n",
        "yhat = ovr.predict(X)"
      ],
      "metadata": {
        "id": "CuutTCllHgVg",
        "colab": {
          "base_uri": "https://localhost:8080/"
        },
        "outputId": "f6947d0e-dbe7-463e-99c3-c772b3c01818"
      },
      "execution_count": null,
      "outputs": [
        {
          "output_type": "stream",
          "name": "stderr",
          "text": [
            "/usr/local/lib/python3.7/dist-packages/sklearn/linear_model/_logistic.py:818: ConvergenceWarning: lbfgs failed to converge (status=1):\n",
            "STOP: TOTAL NO. of ITERATIONS REACHED LIMIT.\n",
            "\n",
            "Increase the number of iterations (max_iter) or scale the data as shown in:\n",
            "    https://scikit-learn.org/stable/modules/preprocessing.html\n",
            "Please also refer to the documentation for alternative solver options:\n",
            "    https://scikit-learn.org/stable/modules/linear_model.html#logistic-regression\n",
            "  extra_warning_msg=_LOGISTIC_SOLVER_CONVERGENCE_MSG,\n"
          ]
        }
      ]
    },
    {
      "cell_type": "code",
      "source": [
        "#Membuat SVM\n",
        "from sklearn.datasets import make_blobs\n",
        "ovr, yhat = make_blobs(n_samples=200, centers=5,\n",
        "                  random_state=0, cluster_std=1)\n",
        "\n",
        "plt.scatter(ovr[:, 0], ovr[:, 1], c=yhat, s=30, cmap='autumn');"
      ],
      "metadata": {
        "id": "H4FbKrW3a4qq",
        "colab": {
          "base_uri": "https://localhost:8080/",
          "height": 171
        },
        "outputId": "671d9521-d075-4abf-d7fe-da0f6db621bc"
      },
      "execution_count": null,
      "outputs": [
        {
          "output_type": "display_data",
          "data": {
            "text/plain": [
              "<Figure size 270x180 with 1 Axes>"
            ],
            "image/png": "[encoded data removed]"
          },
          "metadata": {
            "needs_background": "light"
          }
        }
      ]
    },
    {
      "cell_type": "markdown",
      "source": [
        "##3.4 KNN (K - Nearest Neighbour)"
      ],
      "metadata": {
        "id": "HmKeaFQBZyjN"
      }
    },
    {
      "cell_type": "code",
      "source": [
        "# Mengaktifkan package untuk mengubah skala data\n",
        "from sklearn.preprocessing import StandardScaler\n",
        "\n",
        "# Membuat Variabel baru untuk training agar tidak tertimpa dengan variabel training yang awal\n",
        "X_train_modelknn = X_train \n",
        "y_train_modelknn = y_train\n",
        "\n",
        "# Membuat variabel baru untuk testing agar tidak tertimpa oleh variabel awal\n",
        "X_test_modelknn = X_test\n",
        "y_test_modelknn = y_test\n",
        "\n",
        "scaler = StandardScaler()\n",
        "scaler.fit(X_train_modelknn)\n",
        "\n",
        "X_train_modelknn = scaler.transform(X_train_modelknn)\n",
        "X_test_modelknn = scaler.transform(X_test_modelknn)"
      ],
      "metadata": {
        "id": "Vl-cLJ7pccw8"
      },
      "execution_count": null,
      "outputs": []
    },
    {
      "cell_type": "code",
      "source": [
        "# Mengaktifkan package untuk klasifikasi KNN dari sklearn\n",
        "from sklearn.neighbors import KNeighborsClassifier\n",
        "\n",
        "KNN = KNeighborsClassifier (n_neighbors=4)"
      ],
      "metadata": {
        "id": "h_vK8Unve7NM"
      },
      "execution_count": null,
      "outputs": []
    },
    {
      "cell_type": "code",
      "source": [
        "# Mengaktifkan fungsi klasifikasi dan memasukkan data training \n",
        "KNN.fit(X_train_modelknn, y_train_modelknn)"
      ],
      "metadata": {
        "id": "m3Wb03BFf7CP",
        "colab": {
          "base_uri": "https://localhost:8080/"
        },
        "outputId": "50be97f7-a3bf-47f8-8623-3b3800ae2790"
      },
      "execution_count": null,
      "outputs": [
        {
          "output_type": "execute_result",
          "data": {
            "text/plain": [
              "KNeighborsClassifier(n_neighbors=4)"
            ]
          },
          "metadata": {},
          "execution_count": 182
        }
      ]
    },
    {
      "cell_type": "code",
      "source": [
        "# Menentukan prediksi\n",
        "y_pred_modelKNN = KNN.predict (X_test_modelknn)\n",
        "y_pred_modelKNN"
      ],
      "metadata": {
        "id": "KQRR7DPbgGda",
        "colab": {
          "base_uri": "https://localhost:8080/"
        },
        "outputId": "6ae8290f-5d34-4898-b095-b54ea9e4677e"
      },
      "execution_count": null,
      "outputs": [
        {
          "output_type": "execute_result",
          "data": {
            "text/plain": [
              "array([3, 4, 0, 0, 0, 4, 4, 4, 0, 4, 1, 0, 0, 0, 0, 3, 0, 0, 4, 0, 0, 4,\n",
              "       4, 4, 0, 4, 4, 0, 0, 0, 4, 3, 1, 4, 0, 0, 4, 0, 4, 4, 0, 1, 0, 2,\n",
              "       0, 4, 0, 0, 4, 0, 0, 2, 0, 0, 3, 0, 4, 4, 0, 2])"
            ]
          },
          "metadata": {},
          "execution_count": 183
        }
      ]
    },
    {
      "cell_type": "code",
      "source": [
        "# Menentukan probabilitas prediksi\n",
        "KNN.predict_proba(X_test_modelknn)"
      ],
      "metadata": {
        "id": "HXsWOGvQgP2B",
        "colab": {
          "base_uri": "https://localhost:8080/"
        },
        "outputId": "0ec235d0-e5db-4691-bc06-b29e1a5f4590"
      },
      "execution_count": null,
      "outputs": [
        {
          "output_type": "execute_result",
          "data": {
            "text/plain": [
              "array([[0.  , 0.25, 0.  , 0.5 , 0.25],\n",
              "       [0.  , 0.  , 0.  , 0.25, 0.75],\n",
              "       [1.  , 0.  , 0.  , 0.  , 0.  ],\n",
              "       [1.  , 0.  , 0.  , 0.  , 0.  ],\n",
              "       [1.  , 0.  , 0.  , 0.  , 0.  ],\n",
              "       [0.  , 0.25, 0.  , 0.  , 0.75],\n",
              "       [0.  , 0.  , 0.  , 0.25, 0.75],\n",
              "       [0.25, 0.25, 0.  , 0.  , 0.5 ],\n",
              "       [0.75, 0.  , 0.  , 0.25, 0.  ],\n",
              "       [0.  , 0.  , 0.  , 0.  , 1.  ],\n",
              "       [0.  , 0.75, 0.  , 0.  , 0.25],\n",
              "       [1.  , 0.  , 0.  , 0.  , 0.  ],\n",
              "       [1.  , 0.  , 0.  , 0.  , 0.  ],\n",
              "       [0.5 , 0.  , 0.  , 0.  , 0.5 ],\n",
              "       [0.5 , 0.  , 0.5 , 0.  , 0.  ],\n",
              "       [0.25, 0.  , 0.  , 0.75, 0.  ],\n",
              "       [0.75, 0.  , 0.25, 0.  , 0.  ],\n",
              "       [0.5 , 0.  , 0.  , 0.  , 0.5 ],\n",
              "       [0.25, 0.  , 0.  , 0.  , 0.75],\n",
              "       [0.75, 0.25, 0.  , 0.  , 0.  ],\n",
              "       [1.  , 0.  , 0.  , 0.  , 0.  ],\n",
              "       [0.  , 0.  , 0.  , 0.25, 0.75],\n",
              "       [0.  , 0.  , 0.  , 0.  , 1.  ],\n",
              "       [0.25, 0.25, 0.  , 0.  , 0.5 ],\n",
              "       [1.  , 0.  , 0.  , 0.  , 0.  ],\n",
              "       [0.25, 0.  , 0.  , 0.  , 0.75],\n",
              "       [0.25, 0.  , 0.  , 0.  , 0.75],\n",
              "       [1.  , 0.  , 0.  , 0.  , 0.  ],\n",
              "       [1.  , 0.  , 0.  , 0.  , 0.  ],\n",
              "       [0.5 , 0.  , 0.  , 0.  , 0.5 ],\n",
              "       [0.  , 0.  , 0.  , 0.  , 1.  ],\n",
              "       [0.25, 0.25, 0.  , 0.5 , 0.  ],\n",
              "       [0.  , 0.5 , 0.5 , 0.  , 0.  ],\n",
              "       [0.  , 0.  , 0.  , 0.  , 1.  ],\n",
              "       [1.  , 0.  , 0.  , 0.  , 0.  ],\n",
              "       [1.  , 0.  , 0.  , 0.  , 0.  ],\n",
              "       [0.  , 0.  , 0.  , 0.25, 0.75],\n",
              "       [1.  , 0.  , 0.  , 0.  , 0.  ],\n",
              "       [0.  , 0.25, 0.25, 0.  , 0.5 ],\n",
              "       [0.25, 0.  , 0.  , 0.25, 0.5 ],\n",
              "       [1.  , 0.  , 0.  , 0.  , 0.  ],\n",
              "       [0.25, 0.75, 0.  , 0.  , 0.  ],\n",
              "       [1.  , 0.  , 0.  , 0.  , 0.  ],\n",
              "       [0.25, 0.  , 0.5 , 0.  , 0.25],\n",
              "       [1.  , 0.  , 0.  , 0.  , 0.  ],\n",
              "       [0.  , 0.  , 0.  , 0.  , 1.  ],\n",
              "       [0.75, 0.  , 0.  , 0.  , 0.25],\n",
              "       [1.  , 0.  , 0.  , 0.  , 0.  ],\n",
              "       [0.  , 0.25, 0.25, 0.  , 0.5 ],\n",
              "       [0.5 , 0.  , 0.25, 0.  , 0.25],\n",
              "       [0.5 , 0.  , 0.  , 0.25, 0.25],\n",
              "       [0.  , 0.  , 0.75, 0.  , 0.25],\n",
              "       [1.  , 0.  , 0.  , 0.  , 0.  ],\n",
              "       [1.  , 0.  , 0.  , 0.  , 0.  ],\n",
              "       [0.  , 0.25, 0.  , 0.5 , 0.25],\n",
              "       [1.  , 0.  , 0.  , 0.  , 0.  ],\n",
              "       [0.  , 0.  , 0.  , 0.  , 1.  ],\n",
              "       [0.  , 0.  , 0.  , 0.25, 0.75],\n",
              "       [0.5 , 0.  , 0.  , 0.  , 0.5 ],\n",
              "       [0.  , 0.25, 0.75, 0.  , 0.  ]])"
            ]
          },
          "metadata": {},
          "execution_count": 184
        }
      ]
    },
    {
      "cell_type": "markdown",
      "source": [
        "## 3.5 Random Forest"
      ],
      "metadata": {
        "id": "6LNtEUz4vTPf"
      }
    },
    {
      "cell_type": "code",
      "source": [
        "from sklearn.ensemble import RandomForestClassifier\n",
        "\n",
        "# Membuat Variabel baru untuk training agar tidak tertimpa dengan variabel training yang awal\n",
        "X_train_modelRFC = X_train \n",
        "y_train_modelRFC = y_train\n",
        "\n",
        "# Membuat variabel baru untuk testing agar tidak tertimpa oleh variabel awal\n",
        "X_test_modelRFC = X_test\n",
        "y_test_modelRFC = y_test\n",
        "\n",
        "modelRFC = RandomForestClassifier(random_state = 40)\n",
        "modelRFC.fit(X_train_modelRFC,y_train_modelRFC)\n"
      ],
      "metadata": {
        "colab": {
          "base_uri": "https://localhost:8080/"
        },
        "id": "FMRajWALse32",
        "outputId": "21999c68-8fc2-4a56-e512-0c6e7cb71714"
      },
      "execution_count": null,
      "outputs": [
        {
          "output_type": "execute_result",
          "data": {
            "text/plain": [
              "RandomForestClassifier(random_state=40)"
            ]
          },
          "metadata": {},
          "execution_count": 185
        }
      ]
    },
    {
      "cell_type": "markdown",
      "source": [
        "# 4. Classification Report\n"
      ],
      "metadata": {
        "id": "h7ObPIrHWFJY"
      }
    },
    {
      "cell_type": "markdown",
      "source": [
        "## 4.1 Decision Tree"
      ],
      "metadata": {
        "id": "UwcwsgcOK0eD"
      }
    },
    {
      "cell_type": "code",
      "source": [
        "from sklearn.metrics import classification_report\n",
        "\n",
        "# Membuat variabel baru untuk testing agar tidak tertimpa oleh variabel awal\n",
        "X_test_modelDecisionTree = X_test\n",
        "y_test_modelDecisionTree = y_test\n",
        "\n",
        "y_pred_modelDecisionTree = modelDecisionTree.predict(X_test_modelDecisionTree)\n",
        "\n",
        "print(classification_report(y_test_modelDecisionTree, y_pred_modelDecisionTree))\n"
      ],
      "metadata": {
        "id": "OOFGehnc7jdo",
        "colab": {
          "base_uri": "https://localhost:8080/"
        },
        "outputId": "3dd3fd8f-fe4e-40c2-908a-f2c1c1bb182a"
      },
      "execution_count": null,
      "outputs": [
        {
          "output_type": "stream",
          "name": "stdout",
          "text": [
            "              precision    recall  f1-score   support\n",
            "\n",
            "           0       1.00      1.00      1.00        30\n",
            "           1       1.00      1.00      1.00         5\n",
            "           2       1.00      1.00      1.00         3\n",
            "           3       0.36      1.00      0.53         4\n",
            "           4       1.00      0.61      0.76        18\n",
            "\n",
            "    accuracy                           0.88        60\n",
            "   macro avg       0.87      0.92      0.86        60\n",
            "weighted avg       0.96      0.88      0.90        60\n",
            "\n"
          ]
        }
      ]
    },
    {
      "cell_type": "markdown",
      "source": [
        "## 4.1.1 Visualiasasi Confusion Matrix dari Model Decision Tree"
      ],
      "metadata": {
        "id": "e2IY4eQzna9E"
      }
    },
    {
      "cell_type": "code",
      "source": [
        "import matplotlib.pyplot as plt\n",
        "from sklearn.metrics._plot.confusion_matrix import confusion_matrix\n",
        "from sklearn.metrics import confusion_matrix, ConfusionMatrixDisplay\n",
        "\n",
        "cm = confusion_matrix(y_test_modelDecisionTree,y_pred_modelDecisionTree, labels= modelDecisionTree.classes_)\n",
        "disp = ConfusionMatrixDisplay(confusion_matrix = cm, display_labels=modelDecisionTree.classes_)\n",
        "\n",
        "disp.plot()\n",
        "plt.show()\n"
      ],
      "metadata": {
        "id": "sbSsV299nUD8",
        "colab": {
          "base_uri": "https://localhost:8080/",
          "height": 180
        },
        "outputId": "96ba35d1-2e85-476a-d80c-8c12315fe39f"
      },
      "execution_count": null,
      "outputs": [
        {
          "output_type": "display_data",
          "data": {
            "text/plain": [
              "<Figure size 270x180 with 2 Axes>"
            ],
            "image/png": "[encoded data removed]"
          },
          "metadata": {
            "needs_background": "light"
          }
        }
      ]
    },
    {
      "cell_type": "code",
      "source": [
        "# Mencetak Akurasi, precision, recall, dan f1-score untuk model decision tree\n",
        "from sklearn.metrics import accuracy_score, precision_score, recall_score, f1_score\n",
        "\n",
        "print(\"Dengan menggunakan Decision Tree maka didapat score berikut ini: \")\n",
        "\n",
        "print('Akurasi: ', accuracy_score(y_test_modelDecisionTree, y_pred_modelDecisionTree))\n",
        "print('Precision: ', precision_score(y_test_modelDecisionTree, y_pred_modelDecisionTree, average='weighted'))\n",
        "print('Recall: ', recall_score(y_test_modelDecisionTree, y_pred_modelDecisionTree, average='weighted'))\n",
        "print('F1-Score: ', f1_score(y_test_modelDecisionTree, y_pred_modelDecisionTree, average='weighted'))\n",
        "\n",
        "\n",
        "metode.append('Decision Tree')\n",
        "score.append(\"{:.2%}\".format(accuracy_score(y_test_modelDecisionTree, y_pred_modelDecisionTree)))\n"
      ],
      "metadata": {
        "id": "MD3l0BY87q_W",
        "colab": {
          "base_uri": "https://localhost:8080/"
        },
        "outputId": "d302c506-840b-4dde-ea85-f15201edf718"
      },
      "execution_count": null,
      "outputs": [
        {
          "output_type": "stream",
          "name": "stdout",
          "text": [
            "Dengan menggunakan Decision Tree maka didapat score berikut ini: \n",
            "Akurasi:  0.8833333333333333\n",
            "Precision:  0.9575757575757575\n",
            "Recall:  0.8833333333333333\n",
            "F1-Score:  0.8964750957854406\n"
          ]
        }
      ]
    },
    {
      "cell_type": "markdown",
      "source": [
        "## 4.2 Naive Bayessian"
      ],
      "metadata": {
        "id": "DWp5GGz5K4AS"
      }
    },
    {
      "cell_type": "code",
      "source": [
        "from sklearn.metrics import accuracy_score\n",
        "print(classification_report(y_test_modelNaiveBayessian, y_pred_modelNaiveBayessian))\n",
        "\n",
        "NaiveAcc = accuracy_score(y_pred_modelNaiveBayessian,y_test_modelNaiveBayessian)\n",
        "\n"
      ],
      "metadata": {
        "id": "819xRnkVXqLS",
        "colab": {
          "base_uri": "https://localhost:8080/"
        },
        "outputId": "dbb9505a-eab5-4e2f-b0b2-09d1ba98f12b"
      },
      "execution_count": null,
      "outputs": [
        {
          "output_type": "stream",
          "name": "stdout",
          "text": [
            "              precision    recall  f1-score   support\n",
            "\n",
            "           0       1.00      0.70      0.82        30\n",
            "           1       0.62      1.00      0.77         5\n",
            "           2       0.60      1.00      0.75         3\n",
            "           3       0.57      1.00      0.73         4\n",
            "           4       0.95      1.00      0.97        18\n",
            "\n",
            "    accuracy                           0.85        60\n",
            "   macro avg       0.75      0.94      0.81        60\n",
            "weighted avg       0.90      0.85      0.85        60\n",
            "\n"
          ]
        }
      ]
    },
    {
      "cell_type": "markdown",
      "source": [
        "## 4.2.1 Visualisasi Confusion Matrix dari model Naive Bayessian"
      ],
      "metadata": {
        "id": "gwkgPKqFq_gr"
      }
    },
    {
      "cell_type": "code",
      "source": [
        "import matplotlib.pyplot as plt\n",
        "from sklearn.metrics._plot.confusion_matrix import confusion_matrix\n",
        "from sklearn.metrics import confusion_matrix, ConfusionMatrixDisplay\n",
        "\n",
        "cm = confusion_matrix(y_test_modelNaiveBayessian,y_pred_modelNaiveBayessian, labels= modelNaiveBayessian.classes_)\n",
        "disp = ConfusionMatrixDisplay(confusion_matrix = cm, display_labels=modelNaiveBayessian.classes_)\n",
        "\n",
        "disp.plot()\n",
        "plt.show()\n"
      ],
      "metadata": {
        "id": "5mbB_kMCrKOs",
        "colab": {
          "base_uri": "https://localhost:8080/",
          "height": 178
        },
        "outputId": "9a586f8a-dfe1-4c4d-f63a-7db28c105fde"
      },
      "execution_count": null,
      "outputs": [
        {
          "output_type": "display_data",
          "data": {
            "text/plain": [
              "<Figure size 270x180 with 2 Axes>"
            ],
            "image/png": "[encoded data removed]"
          },
          "metadata": {
            "needs_background": "light"
          }
        }
      ]
    },
    {
      "cell_type": "code",
      "source": [
        "# Mencetak Akurasi, precision, recall, dan f1-score untuk model decision tree\n",
        "from sklearn.metrics import accuracy_score, precision_score, recall_score, f1_score\n",
        "\n",
        "print(\"Dengan menggunakan Naive Bayessian maka didapat score berikut ini: \")\n",
        "\n",
        "print('Akurasi: ', accuracy_score(y_test_modelNaiveBayessian, y_pred_modelNaiveBayessian))\n",
        "print('Precision: ', precision_score(y_test_modelNaiveBayessian, y_pred_modelNaiveBayessian, average='weighted'))\n",
        "print('Recall: ', recall_score(y_test_modelNaiveBayessian, y_pred_modelNaiveBayessian, average='weighted'))\n",
        "print('F1-Score: ', f1_score(y_test_modelNaiveBayessian, y_pred_modelNaiveBayessian, average='weighted'))\n",
        "\n",
        "metode.append(\"Naive Bayessian\")\n",
        "score.append(\"{:.2%}\".format(accuracy_score(y_test_modelNaiveBayessian, y_pred_modelNaiveBayessian)))\n"
      ],
      "metadata": {
        "id": "vUOGc2satAlm",
        "colab": {
          "base_uri": "https://localhost:8080/"
        },
        "outputId": "202044d6-b9f8-4416-a016-eb003463a816"
      },
      "execution_count": null,
      "outputs": [
        {
          "output_type": "stream",
          "name": "stdout",
          "text": [
            "Dengan menggunakan Naive Bayessian maka didapat score berikut ini: \n",
            "Akurasi:  0.85\n",
            "Precision:  0.9043890977443607\n",
            "Recall:  0.85\n",
            "F1-Score:  0.8537440103616574\n"
          ]
        }
      ]
    },
    {
      "cell_type": "markdown",
      "source": [
        "## 4.3 KNN"
      ],
      "metadata": {
        "id": "xwqwCHylRew4"
      }
    },
    {
      "cell_type": "code",
      "source": [
        "# Print hasil prediksi\n",
        "print(classification_report(y_test_modelknn, y_pred_modelKNN))"
      ],
      "metadata": {
        "id": "tQgiA5oiQiiJ",
        "colab": {
          "base_uri": "https://localhost:8080/"
        },
        "outputId": "b09bf5bb-01d4-4528-eac5-4004a881abff"
      },
      "execution_count": null,
      "outputs": [
        {
          "output_type": "stream",
          "name": "stdout",
          "text": [
            "              precision    recall  f1-score   support\n",
            "\n",
            "           0       0.93      0.93      0.93        30\n",
            "           1       1.00      0.60      0.75         5\n",
            "           2       0.67      0.67      0.67         3\n",
            "           3       1.00      1.00      1.00         4\n",
            "           4       0.80      0.89      0.84        18\n",
            "\n",
            "    accuracy                           0.88        60\n",
            "   macro avg       0.88      0.82      0.84        60\n",
            "weighted avg       0.89      0.88      0.88        60\n",
            "\n"
          ]
        }
      ]
    },
    {
      "cell_type": "code",
      "source": [
        "# Import package untuk melihat keakuratan data prediksi\n",
        "from sklearn.metrics import classification_report, confusion_matrix\n",
        "\n",
        "# Menampilkan matriks hasil prediksi\n",
        "print(confusion_matrix(y_test_modelknn, y_pred_modelKNN))"
      ],
      "metadata": {
        "id": "HmgKDg2lgmQ3",
        "colab": {
          "base_uri": "https://localhost:8080/"
        },
        "outputId": "32ec455b-6d85-40ab-d04e-ca74f01a5e5e"
      },
      "execution_count": null,
      "outputs": [
        {
          "output_type": "stream",
          "name": "stdout",
          "text": [
            "[[28  0  0  0  2]\n",
            " [ 0  3  0  0  2]\n",
            " [ 1  0  2  0  0]\n",
            " [ 0  0  0  4  0]\n",
            " [ 1  0  1  0 16]]\n"
          ]
        }
      ]
    },
    {
      "cell_type": "markdown",
      "source": [
        "### 4.3.1 Visualisasi Confusion Matrix KNN"
      ],
      "metadata": {
        "id": "gvF1cWvHM118"
      }
    },
    {
      "cell_type": "code",
      "source": [
        "import matplotlib.pyplot as plt\n",
        "from sklearn.metrics._plot.confusion_matrix import confusion_matrix\n",
        "from sklearn.metrics import confusion_matrix, ConfusionMatrixDisplay\n",
        "\n",
        "cm = confusion_matrix(y_test_modelknn,y_pred_modelKNN, labels= KNN.classes_)\n",
        "disp = ConfusionMatrixDisplay(confusion_matrix = cm, display_labels=KNN.classes_)\n",
        "\n",
        "disp.plot()\n",
        "plt.show()\n"
      ],
      "metadata": {
        "id": "2aqTxJiYM5nT",
        "colab": {
          "base_uri": "https://localhost:8080/",
          "height": 178
        },
        "outputId": "70e08dcc-20ec-4e06-d776-ec3622da9429"
      },
      "execution_count": null,
      "outputs": [
        {
          "output_type": "display_data",
          "data": {
            "text/plain": [
              "<Figure size 270x180 with 2 Axes>"
            ],
            "image/png": "[encoded data removed]"
          },
          "metadata": {
            "needs_background": "light"
          }
        }
      ]
    },
    {
      "cell_type": "code",
      "source": [
        "# Mencetak Akurasi, precision, recall, dan f1-score untuk model decision tree\n",
        "from sklearn.metrics import accuracy_score, precision_score, recall_score, f1_score\n",
        "\n",
        "print(\"Dengan menggunakan Naive Bayessian maka didapat score berikut ini: \")\n",
        "\n",
        "print('Akurasi: ', accuracy_score(y_test_modelknn, y_pred_modelKNN))\n",
        "print('Precision: ', precision_score(y_test_modelknn, y_pred_modelKNN, average='weighted'))\n",
        "print('Recall: ', recall_score(y_test_modelknn, y_pred_modelKNN, average='weighted'))\n",
        "print('F1-Score: ', f1_score(y_test_modelknn, y_pred_modelKNN, average='weighted'))\n",
        "\n",
        "metode.append(\"KNN\")\n",
        "score.append(\"{:.2%}\".format(accuracy_score(y_test_modelknn, y_pred_modelKNN)))\n"
      ],
      "metadata": {
        "id": "SZ7V09DRM0hD",
        "colab": {
          "base_uri": "https://localhost:8080/"
        },
        "outputId": "dcf62845-5c01-42bb-a1db-225d515d370a"
      },
      "execution_count": null,
      "outputs": [
        {
          "output_type": "stream",
          "name": "stdout",
          "text": [
            "Dengan menggunakan Naive Bayessian maka didapat score berikut ini: \n",
            "Akurasi:  0.8833333333333333\n",
            "Precision:  0.89\n",
            "Recall:  0.8833333333333333\n",
            "F1-Score:  0.8817982456140352\n"
          ]
        }
      ]
    },
    {
      "cell_type": "markdown",
      "source": [
        "## 4.4 SVM"
      ],
      "metadata": {
        "id": "Cm8etbPXqnRC"
      }
    },
    {
      "cell_type": "code",
      "source": [
        "from sklearn.metrics import classification_report\n",
        "y_pred_modelSVM=model1.predict(X_test_modelSVM)\n",
        "\n",
        "print(classification_report(y_test_modelSVM, y_pred_modelSVM))"
      ],
      "metadata": {
        "id": "gc3ZQRe-2GJJ",
        "colab": {
          "base_uri": "https://localhost:8080/"
        },
        "outputId": "82bf7c18-431c-4de6-b8b9-1c97b0daa05b"
      },
      "execution_count": null,
      "outputs": [
        {
          "output_type": "stream",
          "name": "stdout",
          "text": [
            "              precision    recall  f1-score   support\n",
            "\n",
            "           0       0.94      1.00      0.97        30\n",
            "           1       1.00      1.00      1.00         5\n",
            "           2       1.00      1.00      1.00         3\n",
            "           3       0.75      0.75      0.75         4\n",
            "           4       1.00      0.89      0.94        18\n",
            "\n",
            "    accuracy                           0.95        60\n",
            "   macro avg       0.94      0.93      0.93        60\n",
            "weighted avg       0.95      0.95      0.95        60\n",
            "\n"
          ]
        }
      ]
    },
    {
      "cell_type": "markdown",
      "source": [
        "### 4.4.1 Visualisasi Confusion Matrix SVM"
      ],
      "metadata": {
        "id": "2NCoRsqlq_JB"
      }
    },
    {
      "cell_type": "code",
      "source": [
        "import seaborn as sn\n",
        "\n",
        "#mengimplementasikan testing data dan hasil prediksi dalam confusion matrix\n",
        "cm = confusion_matrix(y_test_modelSVM, y_pred_modelSVM)\n",
        " \n",
        "#membuat plotting confusion matrix\n",
        "%matplotlib inline\n",
        "plt.figure (figsize=(10,7))\n",
        "sn.heatmap(cm, annot=True)\n",
        "plt.xlabel('Predicted')\n",
        "plt.ylabel('Truth')"
      ],
      "metadata": {
        "id": "SuWXSw-m2KzN",
        "colab": {
          "base_uri": "https://localhost:8080/",
          "height": 463
        },
        "outputId": "7d4add77-0e79-4ca1-898a-79131d1d5657"
      },
      "execution_count": null,
      "outputs": [
        {
          "output_type": "execute_result",
          "data": {
            "text/plain": [
              "Text(69.0, 0.5, 'Truth')"
            ]
          },
          "metadata": {},
          "execution_count": 197
        },
        {
          "output_type": "display_data",
          "data": {
            "text/plain": [
              "<Figure size 720x504 with 2 Axes>"
            ],
            "image/png": "[encoded data removed]"
          },
          "metadata": {
            "needs_background": "light"
          }
        }
      ]
    },
    {
      "cell_type": "code",
      "source": [
        "# Mencetak Akurasi, precision, recall, dan f1-score untuk model Naive Bayessian\n",
        "from sklearn.metrics import accuracy_score, precision_score, recall_score, f1_score\n",
        "\n",
        "print(\"Dengan menggunakan Naive Bayessian maka didapat score berikut ini: \")\n",
        "\n",
        "print('Akurasi: ', accuracy_score(y_test_modelSVM, y_pred_modelSVM))\n",
        "print('Precision: ', precision_score(y_test_modelSVM, y_pred_modelSVM, average='weighted'))\n",
        "print('Recall: ', recall_score(y_test_modelSVM, y_pred_modelSVM, average='weighted'))\n",
        "print('F1-Score: ', f1_score(y_test_modelSVM, y_pred_modelSVM, average='weighted'))\n",
        "\n",
        "metode.append(\"SVM\")\n",
        "score.append(\"{:.2%}\".format(accuracy_score(y_test_modelSVM, y_pred_modelSVM)))\n"
      ],
      "metadata": {
        "id": "uWWRjgIxLFzf",
        "colab": {
          "base_uri": "https://localhost:8080/"
        },
        "outputId": "7ae9c609-37c2-4f5a-8119-c38d2672d96f"
      },
      "execution_count": null,
      "outputs": [
        {
          "output_type": "stream",
          "name": "stdout",
          "text": [
            "Dengan menggunakan Naive Bayessian maka didapat score berikut ini: \n",
            "Akurasi:  0.95\n",
            "Precision:  0.9520833333333333\n",
            "Recall:  0.95\n",
            "F1-Score:  0.9495572422517393\n"
          ]
        }
      ]
    },
    {
      "cell_type": "markdown",
      "source": [
        "# 4.5 Random Forest "
      ],
      "metadata": {
        "id": "ryIbWfEcvAKF"
      }
    },
    {
      "cell_type": "code",
      "source": [
        "from sklearn.metrics import classification_report\n",
        "\n",
        "y_pred_modelRFC = modelRFC.predict(X_test_modelRFC)\n",
        "\n",
        "print(classification_report(y_test_modelRFC, y_pred_modelRFC))\n"
      ],
      "metadata": {
        "colab": {
          "base_uri": "https://localhost:8080/"
        },
        "id": "orWn0xAvt4YW",
        "outputId": "7026dac7-8f49-4eba-b08a-e22dfd56c5ee"
      },
      "execution_count": null,
      "outputs": [
        {
          "output_type": "stream",
          "name": "stdout",
          "text": [
            "              precision    recall  f1-score   support\n",
            "\n",
            "           0       1.00      1.00      1.00        30\n",
            "           1       1.00      1.00      1.00         5\n",
            "           2       1.00      1.00      1.00         3\n",
            "           3       1.00      1.00      1.00         4\n",
            "           4       1.00      1.00      1.00        18\n",
            "\n",
            "    accuracy                           1.00        60\n",
            "   macro avg       1.00      1.00      1.00        60\n",
            "weighted avg       1.00      1.00      1.00        60\n",
            "\n"
          ]
        }
      ]
    },
    {
      "cell_type": "markdown",
      "source": [
        "## 4.5.1 Visualisasi Confusi Matriks Random Forest"
      ],
      "metadata": {
        "id": "YM1Q-nAIvEMH"
      }
    },
    {
      "cell_type": "code",
      "source": [
        "import matplotlib.pyplot as plt\n",
        "from sklearn.metrics._plot.confusion_matrix import confusion_matrix\n",
        "from sklearn.metrics import confusion_matrix, ConfusionMatrixDisplay\n",
        "\n",
        "cm = confusion_matrix(y_test_modelRFC,y_pred_modelRFC, labels= modelRFC.classes_)\n",
        "disp = ConfusionMatrixDisplay(confusion_matrix = cm, display_labels=modelRFC.classes_)\n",
        "\n",
        "disp.plot()\n",
        "plt.show()\n"
      ],
      "metadata": {
        "colab": {
          "base_uri": "https://localhost:8080/",
          "height": 283
        },
        "id": "-3KkiiWUtZgf",
        "outputId": "1ad13733-36cb-413b-b08d-951c3686366c"
      },
      "execution_count": null,
      "outputs": [
        {
          "output_type": "display_data",
          "data": {
            "text/plain": [
              "<Figure size 432x288 with 2 Axes>"
            ],
            "image/png": "[encoded data removed]"
          },
          "metadata": {
            "needs_background": "light"
          }
        }
      ]
    },
    {
      "cell_type": "code",
      "source": [
        "# Mencetak Akurasi, precision, recall, dan f1-score untuk model Random Forest\n",
        "from sklearn.metrics import accuracy_score, precision_score, recall_score, f1_score\n",
        "\n",
        "print(\"Dengan menggunakan Random Forest maka didapat score berikut ini: \")\n",
        "\n",
        "print('Akurasi: ', accuracy_score(y_test_modelRFC, y_pred_modelRFC))\n",
        "print('Precision: ', precision_score(y_test_modelRFC, y_pred_modelRFC, average='weighted'))\n",
        "print('Recall: ', recall_score(y_test_modelRFC, y_pred_modelRFC, average='weighted'))\n",
        "print('F1-Score: ', f1_score(y_test_modelRFC, y_pred_modelRFC, average='weighted'))\n",
        "\n",
        "metode.append(\"Random Forest \")\n",
        "score.append(\"{:.2%}\".format(accuracy_score(y_test_modelRFC, y_pred_modelRFC)))"
      ],
      "metadata": {
        "colab": {
          "base_uri": "https://localhost:8080/"
        },
        "id": "45Q-G41NuSYL",
        "outputId": "44799eb8-df01-4c04-be35-80fa3b4e581a"
      },
      "execution_count": null,
      "outputs": [
        {
          "output_type": "stream",
          "name": "stdout",
          "text": [
            "Dengan menggunakan Random Forest maka didapat score berikut ini: \n",
            "Akurasi:  1.0\n",
            "Precision:  1.0\n",
            "Recall:  1.0\n",
            "F1-Score:  1.0\n"
          ]
        }
      ]
    },
    {
      "cell_type": "markdown",
      "source": [
        "# 5. Kesimpulan"
      ],
      "metadata": {
        "id": "fymx1P5A-2aA"
      }
    },
    {
      "cell_type": "code",
      "source": [
        "df_result = pd.DataFrame(result_dict)\n",
        "\n",
        "df_result"
      ],
      "metadata": {
        "id": "-_A8UR33BlA3",
        "colab": {
          "base_uri": "https://localhost:8080/",
          "height": 206
        },
        "outputId": "2fb7824a-8fc7-4d51-ac9e-2e69883bda42"
      },
      "execution_count": null,
      "outputs": [
        {
          "output_type": "execute_result",
          "data": {
            "text/plain": [
              "            metode    score\n",
              "0    Decision Tree   88.33%\n",
              "1  Naive Bayessian   85.00%\n",
              "2              KNN   88.33%\n",
              "3              SVM   95.00%\n",
              "4   Random Forest   100.00%"
            ],
            "text/html": [
              "\n",
              "  <div id=\"df-6ecaa698-b863-4ef6-9534-0101b6543a4e\">\n",
              "    <div class=\"colab-df-container\">\n",
              "      <div>\n",
              "<style scoped>\n",
              "    .dataframe tbody tr th:only-of-type {\n",
              "        vertical-align: middle;\n",
              "    }\n",
              "\n",
              "    .dataframe tbody tr th {\n",
              "        vertical-align: top;\n",
              "    }\n",
              "\n",
              "    .dataframe thead th {\n",
              "        text-align: right;\n",
              "    }\n",
              "</style>\n",
              "<table border=\"1\" class=\"dataframe\">\n",
              "  <thead>\n",
              "    <tr style=\"text-align: right;\">\n",
              "      <th></th>\n",
              "      <th>metode</th>\n",
              "      <th>score</th>\n",
              "    </tr>\n",
              "  </thead>\n",
              "  <tbody>\n",
              "    <tr>\n",
              "      <th>0</th>\n",
              "      <td>Decision Tree</td>\n",
              "      <td>88.33%</td>\n",
              "    </tr>\n",
              "    <tr>\n",
              "      <th>1</th>\n",
              "      <td>Naive Bayessian</td>\n",
              "      <td>85.00%</td>\n",
              "    </tr>\n",
              "    <tr>\n",
              "      <th>2</th>\n",
              "      <td>KNN</td>\n",
              "      <td>88.33%</td>\n",
              "    </tr>\n",
              "    <tr>\n",
              "      <th>3</th>\n",
              "      <td>SVM</td>\n",
              "      <td>95.00%</td>\n",
              "    </tr>\n",
              "    <tr>\n",
              "      <th>4</th>\n",
              "      <td>Random Forest</td>\n",
              "      <td>100.00%</td>\n",
              "    </tr>\n",
              "  </tbody>\n",
              "</table>\n",
              "</div>\n",
              "      <button class=\"colab-df-convert\" onclick=\"convertToInteractive('df-6ecaa698-b863-4ef6-9534-0101b6543a4e')\"\n",
              "              title=\"Convert this dataframe to an interactive table.\"\n",
              "              style=\"display:none;\">\n",
              "        \n",
              "  <svg xmlns=\"http://www.w3.org/2000/svg\" height=\"24px\"viewBox=\"0 0 24 24\"\n",
              "       width=\"24px\">\n",
              "    <path d=\"M0 0h24v24H0V0z\" fill=\"none\"/>\n",
              "    <path d=\"M18.56 5.44l.94 2.06.94-2.06 2.06-.94-2.06-.94-.94-2.06-.94 2.06-2.06.94zm-11 1L8.5 8.5l.94-2.06 2.06-.94-2.06-.94L8.5 2.5l-.94 2.06-2.06.94zm10 10l.94 2.06.94-2.06 2.06-.94-2.06-.94-.94-2.06-.94 2.06-2.06.94z\"/><path d=\"M17.41 7.96l-1.37-1.37c-.4-.4-.92-.59-1.43-.59-.52 0-1.04.2-1.43.59L10.3 9.45l-7.72 7.72c-.78.78-.78 2.05 0 2.83L4 21.41c.39.39.9.59 1.41.59.51 0 1.02-.2 1.41-.59l7.78-7.78 2.81-2.81c.8-.78.8-2.07 0-2.86zM5.41 20L4 18.59l7.72-7.72 1.47 1.35L5.41 20z\"/>\n",
              "  </svg>\n",
              "      </button>\n",
              "      \n",
              "  <style>\n",
              "    .colab-df-container {\n",
              "      display:flex;\n",
              "      flex-wrap:wrap;\n",
              "      gap: 12px;\n",
              "    }\n",
              "\n",
              "    .colab-df-convert {\n",
              "      background-color: #E8F0FE;\n",
              "      border: none;\n",
              "      border-radius: 50%;\n",
              "      cursor: pointer;\n",
              "      display: none;\n",
              "      fill: #1967D2;\n",
              "      height: 32px;\n",
              "      padding: 0 0 0 0;\n",
              "      width: 32px;\n",
              "    }\n",
              "\n",
              "    .colab-df-convert:hover {\n",
              "      background-color: #E2EBFA;\n",
              "      box-shadow: 0px 1px 2px rgba(60, 64, 67, 0.3), 0px 1px 3px 1px rgba(60, 64, 67, 0.15);\n",
              "      fill: #174EA6;\n",
              "    }\n",
              "\n",
              "    [theme=dark] .colab-df-convert {\n",
              "      background-color: #3B4455;\n",
              "      fill: #D2E3FC;\n",
              "    }\n",
              "\n",
              "    [theme=dark] .colab-df-convert:hover {\n",
              "      background-color: #434B5C;\n",
              "      box-shadow: 0px 1px 3px 1px rgba(0, 0, 0, 0.15);\n",
              "      filter: drop-shadow(0px 1px 2px rgba(0, 0, 0, 0.3));\n",
              "      fill: #FFFFFF;\n",
              "    }\n",
              "  </style>\n",
              "\n",
              "      <script>\n",
              "        const buttonEl =\n",
              "          document.querySelector('#df-6ecaa698-b863-4ef6-9534-0101b6543a4e button.colab-df-convert');\n",
              "        buttonEl.style.display =\n",
              "          google.colab.kernel.accessAllowed ? 'block' : 'none';\n",
              "\n",
              "        async function convertToInteractive(key) {\n",
              "          const element = document.querySelector('#df-6ecaa698-b863-4ef6-9534-0101b6543a4e');\n",
              "          const dataTable =\n",
              "            await google.colab.kernel.invokeFunction('convertToInteractive',\n",
              "                                                     [key], {});\n",
              "          if (!dataTable) return;\n",
              "\n",
              "          const docLinkHtml = 'Like what you see? Visit the ' +\n",
              "            '<a target=\"_blank\" href=https://colab.research.google.com/notebooks/data_table.ipynb>data table notebook</a>'\n",
              "            + ' to learn more about interactive tables.';\n",
              "          element.innerHTML = '';\n",
              "          dataTable['output_type'] = 'display_data';\n",
              "          await google.colab.output.renderOutput(dataTable, element);\n",
              "          const docLink = document.createElement('div');\n",
              "          docLink.innerHTML = docLinkHtml;\n",
              "          element.appendChild(docLink);\n",
              "        }\n",
              "      </script>\n",
              "    </div>\n",
              "  </div>\n",
              "  "
            ]
          },
          "metadata": {},
          "execution_count": 202
        }
      ]
    },
    {
      "cell_type": "code",
      "source": [
        "df_result['metode']"
      ],
      "metadata": {
        "id": "hv9x3K7nZdzH",
        "colab": {
          "base_uri": "https://localhost:8080/"
        },
        "outputId": "9c93f9f7-7710-4df9-c0e6-f7768db3df6c"
      },
      "execution_count": null,
      "outputs": [
        {
          "output_type": "execute_result",
          "data": {
            "text/plain": [
              "0      Decision Tree\n",
              "1    Naive Bayessian\n",
              "2                KNN\n",
              "3                SVM\n",
              "4     Random Forest \n",
              "Name: metode, dtype: object"
            ]
          },
          "metadata": {},
          "execution_count": 203
        }
      ]
    },
    {
      "cell_type": "code",
      "source": [
        "df_result['score']"
      ],
      "metadata": {
        "id": "VVx4afOYaI_D",
        "colab": {
          "base_uri": "https://localhost:8080/"
        },
        "outputId": "1fcb2908-b853-47ab-8792-764a641b2cc3"
      },
      "execution_count": null,
      "outputs": [
        {
          "output_type": "execute_result",
          "data": {
            "text/plain": [
              "0     88.33%\n",
              "1     85.00%\n",
              "2     88.33%\n",
              "3     95.00%\n",
              "4    100.00%\n",
              "Name: score, dtype: object"
            ]
          },
          "metadata": {},
          "execution_count": 204
        }
      ]
    },
    {
      "cell_type": "code",
      "source": [
        "import numpy as np\n",
        "import matplotlib.pyplot as plt\n",
        "\n",
        "labelChart = df_result['metode']\n",
        "scoreChart = df_result['score'].str.replace('%','').astype(np.float64) # Convert String to float\n",
        "colors=['#C94845', '#4958B5', '#49D845', '#777777']\n",
        "\n",
        "\n",
        "plt.title(\" Perbandingan Akurasi dari masing-masing metode \")\n",
        "plt.xlabel('Metode', fontweight='bold', color = 'black', horizontalalignment='center')\n",
        "plt.ylabel('Score',color = 'black')\n",
        "plt.bar(labelChart, scoreChart, color=colors, )\n",
        "\n",
        "\n",
        "\n",
        "plt.tight_layout()\n",
        "plt.show()"
      ],
      "metadata": {
        "id": "PV2o5Q7gUZh6",
        "colab": {
          "base_uri": "https://localhost:8080/",
          "height": 297
        },
        "outputId": "efe9ab9c-e50c-4189-c91a-2cc0a485a7b1"
      },
      "execution_count": null,
      "outputs": [
        {
          "output_type": "display_data",
          "data": {
            "text/plain": [
              "<Figure size 432x288 with 1 Axes>"
            ],
            "image/png": "[encoded data removed]"
          },
          "metadata": {
            "needs_background": "light"
          }
        }
      ]
    }
  ],
  "metadata": {
    "kernelspec": {
      "display_name": "Python 3.10.4 64-bit",
      "language": "python",
      "name": "python3"
    },
    "language_info": {
      "name": "python",
      "version": "3.10.4"
    },
    "orig_nbformat": 4,
    "vscode": {
      "interpreter": {
        "hash": "31f2aee4e71d21fbe5cf8b01ff0e069b9275f58929596ceb00d14d90e3e16cd6"
      }
    },
    "colab": {
      "provenance": [],
      "collapsed_sections": [
        "JgMp0uxVpXpP",
        "BeF9XfYY-jym",
        "Z-UpTI6opbsA",
        "OJLaCTPTpiDK",
        "UwcwsgcOK0eD",
        "e2IY4eQzna9E",
        "DWp5GGz5K4AS",
        "gwkgPKqFq_gr",
        "Cm8etbPXqnRC",
        "2NCoRsqlq_JB"
      ],
      "include_colab_link": true
    }
  },
  "nbformat": 4,
  "nbformat_minor": 0
}