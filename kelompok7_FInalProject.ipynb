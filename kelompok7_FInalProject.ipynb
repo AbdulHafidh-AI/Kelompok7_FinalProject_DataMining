{
  "cells": [
    {
      "cell_type": "markdown",
      "metadata": {
        "id": "view-in-github",
        "colab_type": "text"
      },
      "source": [
        "<a href=\"https://colab.research.google.com/github/AbdulHafidh-AI/Kelompok7_FinalProject_DataMining/blob/main/kelompok7_FInalProject.ipynb\" target=\"_parent\"><img src=\"https://colab.research.google.com/assets/colab-badge.svg\" alt=\"Open In Colab\"/></a>"
      ]
    },
    {
      "cell_type": "markdown",
      "metadata": {
        "id": "78YBq4_CVLJZ"
      },
      "source": [
        "# Projek yang dikerjakan oleh kelompok 7 \n",
        "\n",
        "\n",
        "\n",
        "# Topik Klasifikasi\n",
        "\n",
        "\n",
        "<p> Kami dari wilayah Consigliere ingin melakukan klasifikasi terhadap jenis drug  </p>\n",
        "\n",
        "\n",
        "<p> Projek ini dibuat di istana Consigliere 🏰</p>\n",
        "\n",
        "<p> Anggota Kelompok Consigliere </p>\n",
        "\n",
        "<ul>\n",
        "<li>Muhammad Rudy Hidayat (2008107010002) 😷 </li>\n",
        "<li>Abdul Hafidh (20081070100056) 😷 </li>\n",
        "<li>Teuku Nabil Muhammad Dhuha (2008107010004) 😷</li>\n",
        "</ul>\n",
        "\n",
        "\n",
        "\n",
        "<p> Tujuan dari projek ini adalah untuk mengklasifikasi obat-obatan dengan golongannya masing-masing  </p>\n",
        "\n",
        "<p> Berikut ini adalah metode klasifikasi yang kami gunakan </p>\n",
        "\n",
        "<ul>\n",
        "<li> KNN (K-Nearest Neighbour) </li>\n",
        "<li> Naive Bayessian</li>\n",
        "<li> Decision Tree </li>\n",
        "<li> SVM </li>\n",
        "</ul>\n",
        "\n",
        "\n"
      ]
    },
    {
      "cell_type": "markdown",
      "source": [
        "# 1. Exploratotry Data Analysis\n",
        "\n",
        "\n",
        "<p> Exploratory Data Analysis disini bertujuan dalam melihat segala hal tentang data yang dimana kita dapat mengetahui apakah terdapat data null,banyak outlier,noisy dan lain -lain </p>"
      ],
      "metadata": {
        "id": "Dh_O6GvKVS1P"
      }
    },
    {
      "cell_type": "code",
      "execution_count": 82,
      "metadata": {
        "id": "URFQhMJkVLJc"
      },
      "outputs": [],
      "source": [
        "# Import library \n",
        "import pandas as pd"
      ]
    },
    {
      "cell_type": "code",
      "source": [
        "# Membaca dataframe\n",
        "\n",
        "df = pd.read_csv(\"https://raw.githubusercontent.com/Teuku-Nabil/Datasests/main/drug200.csv\")"
      ],
      "metadata": {
        "id": "dZzWW1ZvjURi"
      },
      "execution_count": 83,
      "outputs": []
    },
    {
      "cell_type": "code",
      "source": [
        "df.head()"
      ],
      "metadata": {
        "colab": {
          "base_uri": "https://localhost:8080/",
          "height": 206
        },
        "id": "TxtlWStjZ2hN",
        "outputId": "6429f0b0-2fde-4d65-8140-b29900ccfb3a"
      },
      "execution_count": 84,
      "outputs": [
        {
          "output_type": "execute_result",
          "data": {
            "text/plain": [
              "   Age Sex      BP Cholesterol  Na_to_K   Drug\n",
              "0   23   F    HIGH        HIGH   25.355  DrugY\n",
              "1   47   M     LOW        HIGH   13.093  drugC\n",
              "2   47   M     LOW        HIGH   10.114  drugC\n",
              "3   28   F  NORMAL        HIGH    7.798  drugX\n",
              "4   61   F     LOW        HIGH   18.043  DrugY"
            ],
            "text/html": [
              "\n",
              "  <div id=\"df-ec6be2d9-897c-40af-bee0-84bb1ee3a049\">\n",
              "    <div class=\"colab-df-container\">\n",
              "      <div>\n",
              "<style scoped>\n",
              "    .dataframe tbody tr th:only-of-type {\n",
              "        vertical-align: middle;\n",
              "    }\n",
              "\n",
              "    .dataframe tbody tr th {\n",
              "        vertical-align: top;\n",
              "    }\n",
              "\n",
              "    .dataframe thead th {\n",
              "        text-align: right;\n",
              "    }\n",
              "</style>\n",
              "<table border=\"1\" class=\"dataframe\">\n",
              "  <thead>\n",
              "    <tr style=\"text-align: right;\">\n",
              "      <th></th>\n",
              "      <th>Age</th>\n",
              "      <th>Sex</th>\n",
              "      <th>BP</th>\n",
              "      <th>Cholesterol</th>\n",
              "      <th>Na_to_K</th>\n",
              "      <th>Drug</th>\n",
              "    </tr>\n",
              "  </thead>\n",
              "  <tbody>\n",
              "    <tr>\n",
              "      <th>0</th>\n",
              "      <td>23</td>\n",
              "      <td>F</td>\n",
              "      <td>HIGH</td>\n",
              "      <td>HIGH</td>\n",
              "      <td>25.355</td>\n",
              "      <td>DrugY</td>\n",
              "    </tr>\n",
              "    <tr>\n",
              "      <th>1</th>\n",
              "      <td>47</td>\n",
              "      <td>M</td>\n",
              "      <td>LOW</td>\n",
              "      <td>HIGH</td>\n",
              "      <td>13.093</td>\n",
              "      <td>drugC</td>\n",
              "    </tr>\n",
              "    <tr>\n",
              "      <th>2</th>\n",
              "      <td>47</td>\n",
              "      <td>M</td>\n",
              "      <td>LOW</td>\n",
              "      <td>HIGH</td>\n",
              "      <td>10.114</td>\n",
              "      <td>drugC</td>\n",
              "    </tr>\n",
              "    <tr>\n",
              "      <th>3</th>\n",
              "      <td>28</td>\n",
              "      <td>F</td>\n",
              "      <td>NORMAL</td>\n",
              "      <td>HIGH</td>\n",
              "      <td>7.798</td>\n",
              "      <td>drugX</td>\n",
              "    </tr>\n",
              "    <tr>\n",
              "      <th>4</th>\n",
              "      <td>61</td>\n",
              "      <td>F</td>\n",
              "      <td>LOW</td>\n",
              "      <td>HIGH</td>\n",
              "      <td>18.043</td>\n",
              "      <td>DrugY</td>\n",
              "    </tr>\n",
              "  </tbody>\n",
              "</table>\n",
              "</div>\n",
              "      <button class=\"colab-df-convert\" onclick=\"convertToInteractive('df-ec6be2d9-897c-40af-bee0-84bb1ee3a049')\"\n",
              "              title=\"Convert this dataframe to an interactive table.\"\n",
              "              style=\"display:none;\">\n",
              "        \n",
              "  <svg xmlns=\"http://www.w3.org/2000/svg\" height=\"24px\"viewBox=\"0 0 24 24\"\n",
              "       width=\"24px\">\n",
              "    <path d=\"M0 0h24v24H0V0z\" fill=\"none\"/>\n",
              "    <path d=\"M18.56 5.44l.94 2.06.94-2.06 2.06-.94-2.06-.94-.94-2.06-.94 2.06-2.06.94zm-11 1L8.5 8.5l.94-2.06 2.06-.94-2.06-.94L8.5 2.5l-.94 2.06-2.06.94zm10 10l.94 2.06.94-2.06 2.06-.94-2.06-.94-.94-2.06-.94 2.06-2.06.94z\"/><path d=\"M17.41 7.96l-1.37-1.37c-.4-.4-.92-.59-1.43-.59-.52 0-1.04.2-1.43.59L10.3 9.45l-7.72 7.72c-.78.78-.78 2.05 0 2.83L4 21.41c.39.39.9.59 1.41.59.51 0 1.02-.2 1.41-.59l7.78-7.78 2.81-2.81c.8-.78.8-2.07 0-2.86zM5.41 20L4 18.59l7.72-7.72 1.47 1.35L5.41 20z\"/>\n",
              "  </svg>\n",
              "      </button>\n",
              "      \n",
              "  <style>\n",
              "    .colab-df-container {\n",
              "      display:flex;\n",
              "      flex-wrap:wrap;\n",
              "      gap: 12px;\n",
              "    }\n",
              "\n",
              "    .colab-df-convert {\n",
              "      background-color: #E8F0FE;\n",
              "      border: none;\n",
              "      border-radius: 50%;\n",
              "      cursor: pointer;\n",
              "      display: none;\n",
              "      fill: #1967D2;\n",
              "      height: 32px;\n",
              "      padding: 0 0 0 0;\n",
              "      width: 32px;\n",
              "    }\n",
              "\n",
              "    .colab-df-convert:hover {\n",
              "      background-color: #E2EBFA;\n",
              "      box-shadow: 0px 1px 2px rgba(60, 64, 67, 0.3), 0px 1px 3px 1px rgba(60, 64, 67, 0.15);\n",
              "      fill: #174EA6;\n",
              "    }\n",
              "\n",
              "    [theme=dark] .colab-df-convert {\n",
              "      background-color: #3B4455;\n",
              "      fill: #D2E3FC;\n",
              "    }\n",
              "\n",
              "    [theme=dark] .colab-df-convert:hover {\n",
              "      background-color: #434B5C;\n",
              "      box-shadow: 0px 1px 3px 1px rgba(0, 0, 0, 0.15);\n",
              "      filter: drop-shadow(0px 1px 2px rgba(0, 0, 0, 0.3));\n",
              "      fill: #FFFFFF;\n",
              "    }\n",
              "  </style>\n",
              "\n",
              "      <script>\n",
              "        const buttonEl =\n",
              "          document.querySelector('#df-ec6be2d9-897c-40af-bee0-84bb1ee3a049 button.colab-df-convert');\n",
              "        buttonEl.style.display =\n",
              "          google.colab.kernel.accessAllowed ? 'block' : 'none';\n",
              "\n",
              "        async function convertToInteractive(key) {\n",
              "          const element = document.querySelector('#df-ec6be2d9-897c-40af-bee0-84bb1ee3a049');\n",
              "          const dataTable =\n",
              "            await google.colab.kernel.invokeFunction('convertToInteractive',\n",
              "                                                     [key], {});\n",
              "          if (!dataTable) return;\n",
              "\n",
              "          const docLinkHtml = 'Like what you see? Visit the ' +\n",
              "            '<a target=\"_blank\" href=https://colab.research.google.com/notebooks/data_table.ipynb>data table notebook</a>'\n",
              "            + ' to learn more about interactive tables.';\n",
              "          element.innerHTML = '';\n",
              "          dataTable['output_type'] = 'display_data';\n",
              "          await google.colab.output.renderOutput(dataTable, element);\n",
              "          const docLink = document.createElement('div');\n",
              "          docLink.innerHTML = docLinkHtml;\n",
              "          element.appendChild(docLink);\n",
              "        }\n",
              "      </script>\n",
              "    </div>\n",
              "  </div>\n",
              "  "
            ]
          },
          "metadata": {},
          "execution_count": 84
        }
      ]
    },
    {
      "cell_type": "code",
      "source": [
        "df.describe()"
      ],
      "metadata": {
        "colab": {
          "base_uri": "https://localhost:8080/",
          "height": 300
        },
        "id": "us04eWU6gl5B",
        "outputId": "788fa4ec-e1ac-4ed8-b852-7b8111fcb4c5"
      },
      "execution_count": 85,
      "outputs": [
        {
          "output_type": "execute_result",
          "data": {
            "text/plain": [
              "              Age     Na_to_K\n",
              "count  200.000000  200.000000\n",
              "mean    44.315000   16.084485\n",
              "std     16.544315    7.223956\n",
              "min     15.000000    6.269000\n",
              "25%     31.000000   10.445500\n",
              "50%     45.000000   13.936500\n",
              "75%     58.000000   19.380000\n",
              "max     74.000000   38.247000"
            ],
            "text/html": [
              "\n",
              "  <div id=\"df-3b4f37a0-0855-4062-9391-4e01b6bdad12\">\n",
              "    <div class=\"colab-df-container\">\n",
              "      <div>\n",
              "<style scoped>\n",
              "    .dataframe tbody tr th:only-of-type {\n",
              "        vertical-align: middle;\n",
              "    }\n",
              "\n",
              "    .dataframe tbody tr th {\n",
              "        vertical-align: top;\n",
              "    }\n",
              "\n",
              "    .dataframe thead th {\n",
              "        text-align: right;\n",
              "    }\n",
              "</style>\n",
              "<table border=\"1\" class=\"dataframe\">\n",
              "  <thead>\n",
              "    <tr style=\"text-align: right;\">\n",
              "      <th></th>\n",
              "      <th>Age</th>\n",
              "      <th>Na_to_K</th>\n",
              "    </tr>\n",
              "  </thead>\n",
              "  <tbody>\n",
              "    <tr>\n",
              "      <th>count</th>\n",
              "      <td>200.000000</td>\n",
              "      <td>200.000000</td>\n",
              "    </tr>\n",
              "    <tr>\n",
              "      <th>mean</th>\n",
              "      <td>44.315000</td>\n",
              "      <td>16.084485</td>\n",
              "    </tr>\n",
              "    <tr>\n",
              "      <th>std</th>\n",
              "      <td>16.544315</td>\n",
              "      <td>7.223956</td>\n",
              "    </tr>\n",
              "    <tr>\n",
              "      <th>min</th>\n",
              "      <td>15.000000</td>\n",
              "      <td>6.269000</td>\n",
              "    </tr>\n",
              "    <tr>\n",
              "      <th>25%</th>\n",
              "      <td>31.000000</td>\n",
              "      <td>10.445500</td>\n",
              "    </tr>\n",
              "    <tr>\n",
              "      <th>50%</th>\n",
              "      <td>45.000000</td>\n",
              "      <td>13.936500</td>\n",
              "    </tr>\n",
              "    <tr>\n",
              "      <th>75%</th>\n",
              "      <td>58.000000</td>\n",
              "      <td>19.380000</td>\n",
              "    </tr>\n",
              "    <tr>\n",
              "      <th>max</th>\n",
              "      <td>74.000000</td>\n",
              "      <td>38.247000</td>\n",
              "    </tr>\n",
              "  </tbody>\n",
              "</table>\n",
              "</div>\n",
              "      <button class=\"colab-df-convert\" onclick=\"convertToInteractive('df-3b4f37a0-0855-4062-9391-4e01b6bdad12')\"\n",
              "              title=\"Convert this dataframe to an interactive table.\"\n",
              "              style=\"display:none;\">\n",
              "        \n",
              "  <svg xmlns=\"http://www.w3.org/2000/svg\" height=\"24px\"viewBox=\"0 0 24 24\"\n",
              "       width=\"24px\">\n",
              "    <path d=\"M0 0h24v24H0V0z\" fill=\"none\"/>\n",
              "    <path d=\"M18.56 5.44l.94 2.06.94-2.06 2.06-.94-2.06-.94-.94-2.06-.94 2.06-2.06.94zm-11 1L8.5 8.5l.94-2.06 2.06-.94-2.06-.94L8.5 2.5l-.94 2.06-2.06.94zm10 10l.94 2.06.94-2.06 2.06-.94-2.06-.94-.94-2.06-.94 2.06-2.06.94z\"/><path d=\"M17.41 7.96l-1.37-1.37c-.4-.4-.92-.59-1.43-.59-.52 0-1.04.2-1.43.59L10.3 9.45l-7.72 7.72c-.78.78-.78 2.05 0 2.83L4 21.41c.39.39.9.59 1.41.59.51 0 1.02-.2 1.41-.59l7.78-7.78 2.81-2.81c.8-.78.8-2.07 0-2.86zM5.41 20L4 18.59l7.72-7.72 1.47 1.35L5.41 20z\"/>\n",
              "  </svg>\n",
              "      </button>\n",
              "      \n",
              "  <style>\n",
              "    .colab-df-container {\n",
              "      display:flex;\n",
              "      flex-wrap:wrap;\n",
              "      gap: 12px;\n",
              "    }\n",
              "\n",
              "    .colab-df-convert {\n",
              "      background-color: #E8F0FE;\n",
              "      border: none;\n",
              "      border-radius: 50%;\n",
              "      cursor: pointer;\n",
              "      display: none;\n",
              "      fill: #1967D2;\n",
              "      height: 32px;\n",
              "      padding: 0 0 0 0;\n",
              "      width: 32px;\n",
              "    }\n",
              "\n",
              "    .colab-df-convert:hover {\n",
              "      background-color: #E2EBFA;\n",
              "      box-shadow: 0px 1px 2px rgba(60, 64, 67, 0.3), 0px 1px 3px 1px rgba(60, 64, 67, 0.15);\n",
              "      fill: #174EA6;\n",
              "    }\n",
              "\n",
              "    [theme=dark] .colab-df-convert {\n",
              "      background-color: #3B4455;\n",
              "      fill: #D2E3FC;\n",
              "    }\n",
              "\n",
              "    [theme=dark] .colab-df-convert:hover {\n",
              "      background-color: #434B5C;\n",
              "      box-shadow: 0px 1px 3px 1px rgba(0, 0, 0, 0.15);\n",
              "      filter: drop-shadow(0px 1px 2px rgba(0, 0, 0, 0.3));\n",
              "      fill: #FFFFFF;\n",
              "    }\n",
              "  </style>\n",
              "\n",
              "      <script>\n",
              "        const buttonEl =\n",
              "          document.querySelector('#df-3b4f37a0-0855-4062-9391-4e01b6bdad12 button.colab-df-convert');\n",
              "        buttonEl.style.display =\n",
              "          google.colab.kernel.accessAllowed ? 'block' : 'none';\n",
              "\n",
              "        async function convertToInteractive(key) {\n",
              "          const element = document.querySelector('#df-3b4f37a0-0855-4062-9391-4e01b6bdad12');\n",
              "          const dataTable =\n",
              "            await google.colab.kernel.invokeFunction('convertToInteractive',\n",
              "                                                     [key], {});\n",
              "          if (!dataTable) return;\n",
              "\n",
              "          const docLinkHtml = 'Like what you see? Visit the ' +\n",
              "            '<a target=\"_blank\" href=https://colab.research.google.com/notebooks/data_table.ipynb>data table notebook</a>'\n",
              "            + ' to learn more about interactive tables.';\n",
              "          element.innerHTML = '';\n",
              "          dataTable['output_type'] = 'display_data';\n",
              "          await google.colab.output.renderOutput(dataTable, element);\n",
              "          const docLink = document.createElement('div');\n",
              "          docLink.innerHTML = docLinkHtml;\n",
              "          element.appendChild(docLink);\n",
              "        }\n",
              "      </script>\n",
              "    </div>\n",
              "  </div>\n",
              "  "
            ]
          },
          "metadata": {},
          "execution_count": 85
        }
      ]
    },
    {
      "cell_type": "code",
      "source": [
        "df.columns"
      ],
      "metadata": {
        "id": "CjVSUfUVtRSh",
        "outputId": "2dc3ac8d-f82f-42da-c95f-20d6b79f544e",
        "colab": {
          "base_uri": "https://localhost:8080/"
        }
      },
      "execution_count": 86,
      "outputs": [
        {
          "output_type": "execute_result",
          "data": {
            "text/plain": [
              "Index(['Age', 'Sex', 'BP', 'Cholesterol', 'Na_to_K', 'Drug'], dtype='object')"
            ]
          },
          "metadata": {},
          "execution_count": 86
        }
      ]
    },
    {
      "cell_type": "markdown",
      "source": [
        "<p> Berikut ini adalah atribut pada dataset: </p>\n",
        "\n",
        "<ol>\n",
        "<li> Age </li>\n",
        "<li> Sex </li>\n",
        "<li> BP </li>\n",
        "<li> Cholesterol </li>\n",
        "<li> Na_to_K </li>\n",
        "</ol>\n",
        "\n",
        "<p> Untuk class labelnya adalah atribut Drug </p>\n",
        "\n",
        "<p> Berikut ini adalah deskripsi dari setiap drug (Class Label) : </p>\n",
        "\n",
        "\n",
        "1.   DrugA -->  mengobati tekanan darah tinggi\n",
        "2.   DrugB -->  terapi tekanan darah tinggi\n",
        "3.   DrugC -->  mengobati tekanan darah tinggi\n",
        "4.   DrugX -->  efeknya menenangkan rasa cemas\n",
        "5.   DrugY -->  meningkatkan tekanan darah\n"
      ],
      "metadata": {
        "id": "F2lj4Ud7JoZY"
      }
    },
    {
      "cell_type": "code",
      "source": [
        "df['Sex'].unique()"
      ],
      "metadata": {
        "colab": {
          "base_uri": "https://localhost:8080/"
        },
        "id": "n45SaCrezWYd",
        "outputId": "ef997f7c-143f-45be-8bdf-233c700fdba3"
      },
      "execution_count": 87,
      "outputs": [
        {
          "output_type": "execute_result",
          "data": {
            "text/plain": [
              "array(['F', 'M'], dtype=object)"
            ]
          },
          "metadata": {},
          "execution_count": 87
        }
      ]
    },
    {
      "cell_type": "code",
      "source": [
        "df['BP'].unique()"
      ],
      "metadata": {
        "colab": {
          "base_uri": "https://localhost:8080/"
        },
        "id": "R5VWopLrzbO3",
        "outputId": "3799be3f-37aa-4b12-8a71-e448fa0ba577"
      },
      "execution_count": 88,
      "outputs": [
        {
          "output_type": "execute_result",
          "data": {
            "text/plain": [
              "array(['HIGH', 'LOW', 'NORMAL'], dtype=object)"
            ]
          },
          "metadata": {},
          "execution_count": 88
        }
      ]
    },
    {
      "cell_type": "code",
      "source": [
        "df['Cholesterol'].unique()"
      ],
      "metadata": {
        "colab": {
          "base_uri": "https://localhost:8080/"
        },
        "id": "7k-7WAL-zeoP",
        "outputId": "18e4ff7b-e63c-46a7-ac52-4e537d08efbb"
      },
      "execution_count": 89,
      "outputs": [
        {
          "output_type": "execute_result",
          "data": {
            "text/plain": [
              "array(['HIGH', 'NORMAL'], dtype=object)"
            ]
          },
          "metadata": {},
          "execution_count": 89
        }
      ]
    },
    {
      "cell_type": "code",
      "source": [
        "df.isnull().sum()"
      ],
      "metadata": {
        "id": "BycqCm1qWCqa",
        "colab": {
          "base_uri": "https://localhost:8080/"
        },
        "outputId": "79139c39-d43d-4fce-9b50-110b22020386"
      },
      "execution_count": 90,
      "outputs": [
        {
          "output_type": "execute_result",
          "data": {
            "text/plain": [
              "Age            0\n",
              "Sex            0\n",
              "BP             0\n",
              "Cholesterol    0\n",
              "Na_to_K        0\n",
              "Drug           0\n",
              "dtype: int64"
            ]
          },
          "metadata": {},
          "execution_count": 90
        }
      ]
    },
    {
      "cell_type": "markdown",
      "source": [
        "<p> Dapat dilihat bahwa pada dataset kita tidak ada yang NULL sehingga kita tidak perlu mengisi atau menghilangkan data yang tidak ada, Maka dapat dilihat bahwa dataset kita sudah bagus </p>"
      ],
      "metadata": {
        "id": "ZzhJtBy-JCyB"
      }
    },
    {
      "cell_type": "markdown",
      "source": [
        "<p> Sebelum kita membangun model alangkah baiknya jika kita melakukan teknik Label Encoding utnuk data yang bertipe kategorik agar library sklearn dapat dengan mudah memprosesnya tanpa adanya error </p>\n",
        "\n",
        "\n",
        "<p> Di tahap ini kita seperti melakukan mapping untuk ketiga atribut yakni atribut Sex,BP, dan Cholesterol <P>\n"
      ],
      "metadata": {
        "id": "SEc5Tqwvx-PX"
      }
    },
    {
      "cell_type": "code",
      "source": [
        "!pip install category_encoders"
      ],
      "metadata": {
        "colab": {
          "base_uri": "https://localhost:8080/"
        },
        "id": "HP5NBBoDyb1u",
        "outputId": "e2bb68e5-ce8a-4863-cfaf-b5f3aeda043f"
      },
      "execution_count": 91,
      "outputs": [
        {
          "output_type": "stream",
          "name": "stdout",
          "text": [
            "Looking in indexes: https://pypi.org/simple, https://us-python.pkg.dev/colab-wheels/public/simple/\n",
            "Requirement already satisfied: category_encoders in /usr/local/lib/python3.7/dist-packages (2.5.1.post0)\n",
            "Requirement already satisfied: scipy>=1.0.0 in /usr/local/lib/python3.7/dist-packages (from category_encoders) (1.7.3)\n",
            "Requirement already satisfied: patsy>=0.5.1 in /usr/local/lib/python3.7/dist-packages (from category_encoders) (0.5.3)\n",
            "Requirement already satisfied: statsmodels>=0.9.0 in /usr/local/lib/python3.7/dist-packages (from category_encoders) (0.12.2)\n",
            "Requirement already satisfied: scikit-learn>=0.20.0 in /usr/local/lib/python3.7/dist-packages (from category_encoders) (1.0.2)\n",
            "Requirement already satisfied: numpy>=1.14.0 in /usr/local/lib/python3.7/dist-packages (from category_encoders) (1.21.6)\n",
            "Requirement already satisfied: pandas>=1.0.5 in /usr/local/lib/python3.7/dist-packages (from category_encoders) (1.3.5)\n",
            "Requirement already satisfied: pytz>=2017.3 in /usr/local/lib/python3.7/dist-packages (from pandas>=1.0.5->category_encoders) (2022.6)\n",
            "Requirement already satisfied: python-dateutil>=2.7.3 in /usr/local/lib/python3.7/dist-packages (from pandas>=1.0.5->category_encoders) (2.8.2)\n",
            "Requirement already satisfied: six in /usr/local/lib/python3.7/dist-packages (from patsy>=0.5.1->category_encoders) (1.15.0)\n",
            "Requirement already satisfied: joblib>=0.11 in /usr/local/lib/python3.7/dist-packages (from scikit-learn>=0.20.0->category_encoders) (1.2.0)\n",
            "Requirement already satisfied: threadpoolctl>=2.0.0 in /usr/local/lib/python3.7/dist-packages (from scikit-learn>=0.20.0->category_encoders) (3.1.0)\n"
          ]
        }
      ]
    },
    {
      "cell_type": "code",
      "source": [
        "import category_encoders as ce\n",
        "import pandas as pd\n",
        " \n",
        "\n",
        "# Melakukan teknik label encoder untuk 3 atribut yaitu atribut BP, Atribut Cholesterol, dan Atribut Sex \n",
        "\"\"\"\n",
        "None --> 0\n",
        "LOW --> 1\n",
        "NORMAL --> 2\n",
        "HIGH --> 3\n",
        "\n",
        "\"\"\"\n",
        "encoder_BP = ce.OrdinalEncoder(cols=['BP'],return_df=True,\n",
        "                           mapping=[{'col':'BP',\n",
        "                                    'mapping':{'None':0,'LOW':1,'NORMAL':2,'HIGH':3}}])\n",
        "\n",
        "\n",
        "\"\"\"\n",
        "NORMAL --> 1\n",
        "HIGH --> 2\n",
        "\"\"\"\n",
        "\n",
        "encoder_Cholesterol = ce.OrdinalEncoder(cols=['Cholesterol'],return_df=True,\n",
        "                           mapping=[{'col':'Cholesterol',\n",
        "                                    'mapping':{'NORMAL':1,'HIGH':2}}])\n",
        "\n",
        "\"\"\"\n",
        "F --> 1\n",
        "M --> 2\n",
        "\n",
        "\"\"\"\n",
        "\n",
        "encoder_Sex = ce.OrdinalEncoder(cols=['Sex'],return_df=True,\n",
        "                           mapping=[{'col':'Sex',\n",
        "                                    'mapping':{'F':1,'M':2}}])\n",
        "\n",
        "df = encoder_BP.fit_transform(df)\n",
        "\n",
        "df = encoder_Cholesterol.fit_transform(df)\n",
        "\n",
        "df = encoder_Sex.fit_transform(df)\n",
        "\n",
        "\n",
        "df\n",
        "\n",
        "\n",
        "\n",
        "\n"
      ],
      "metadata": {
        "id": "vi7h3d_8yKFa",
        "colab": {
          "base_uri": "https://localhost:8080/",
          "height": 424
        },
        "outputId": "490358c6-4cf9-4532-85ef-f72ed89673bf"
      },
      "execution_count": 92,
      "outputs": [
        {
          "output_type": "execute_result",
          "data": {
            "text/plain": [
              "     Age  Sex  BP  Cholesterol  Na_to_K   Drug\n",
              "0     23    1   3            2   25.355  DrugY\n",
              "1     47    2   1            2   13.093  drugC\n",
              "2     47    2   1            2   10.114  drugC\n",
              "3     28    1   2            2    7.798  drugX\n",
              "4     61    1   1            2   18.043  DrugY\n",
              "..   ...  ...  ..          ...      ...    ...\n",
              "195   56    1   1            2   11.567  drugC\n",
              "196   16    2   1            2   12.006  drugC\n",
              "197   52    2   2            2    9.894  drugX\n",
              "198   23    2   2            1   14.020  drugX\n",
              "199   40    1   1            1   11.349  drugX\n",
              "\n",
              "[200 rows x 6 columns]"
            ],
            "text/html": [
              "\n",
              "  <div id=\"df-8dffe383-2eb8-4409-8082-d603d1f92506\">\n",
              "    <div class=\"colab-df-container\">\n",
              "      <div>\n",
              "<style scoped>\n",
              "    .dataframe tbody tr th:only-of-type {\n",
              "        vertical-align: middle;\n",
              "    }\n",
              "\n",
              "    .dataframe tbody tr th {\n",
              "        vertical-align: top;\n",
              "    }\n",
              "\n",
              "    .dataframe thead th {\n",
              "        text-align: right;\n",
              "    }\n",
              "</style>\n",
              "<table border=\"1\" class=\"dataframe\">\n",
              "  <thead>\n",
              "    <tr style=\"text-align: right;\">\n",
              "      <th></th>\n",
              "      <th>Age</th>\n",
              "      <th>Sex</th>\n",
              "      <th>BP</th>\n",
              "      <th>Cholesterol</th>\n",
              "      <th>Na_to_K</th>\n",
              "      <th>Drug</th>\n",
              "    </tr>\n",
              "  </thead>\n",
              "  <tbody>\n",
              "    <tr>\n",
              "      <th>0</th>\n",
              "      <td>23</td>\n",
              "      <td>1</td>\n",
              "      <td>3</td>\n",
              "      <td>2</td>\n",
              "      <td>25.355</td>\n",
              "      <td>DrugY</td>\n",
              "    </tr>\n",
              "    <tr>\n",
              "      <th>1</th>\n",
              "      <td>47</td>\n",
              "      <td>2</td>\n",
              "      <td>1</td>\n",
              "      <td>2</td>\n",
              "      <td>13.093</td>\n",
              "      <td>drugC</td>\n",
              "    </tr>\n",
              "    <tr>\n",
              "      <th>2</th>\n",
              "      <td>47</td>\n",
              "      <td>2</td>\n",
              "      <td>1</td>\n",
              "      <td>2</td>\n",
              "      <td>10.114</td>\n",
              "      <td>drugC</td>\n",
              "    </tr>\n",
              "    <tr>\n",
              "      <th>3</th>\n",
              "      <td>28</td>\n",
              "      <td>1</td>\n",
              "      <td>2</td>\n",
              "      <td>2</td>\n",
              "      <td>7.798</td>\n",
              "      <td>drugX</td>\n",
              "    </tr>\n",
              "    <tr>\n",
              "      <th>4</th>\n",
              "      <td>61</td>\n",
              "      <td>1</td>\n",
              "      <td>1</td>\n",
              "      <td>2</td>\n",
              "      <td>18.043</td>\n",
              "      <td>DrugY</td>\n",
              "    </tr>\n",
              "    <tr>\n",
              "      <th>...</th>\n",
              "      <td>...</td>\n",
              "      <td>...</td>\n",
              "      <td>...</td>\n",
              "      <td>...</td>\n",
              "      <td>...</td>\n",
              "      <td>...</td>\n",
              "    </tr>\n",
              "    <tr>\n",
              "      <th>195</th>\n",
              "      <td>56</td>\n",
              "      <td>1</td>\n",
              "      <td>1</td>\n",
              "      <td>2</td>\n",
              "      <td>11.567</td>\n",
              "      <td>drugC</td>\n",
              "    </tr>\n",
              "    <tr>\n",
              "      <th>196</th>\n",
              "      <td>16</td>\n",
              "      <td>2</td>\n",
              "      <td>1</td>\n",
              "      <td>2</td>\n",
              "      <td>12.006</td>\n",
              "      <td>drugC</td>\n",
              "    </tr>\n",
              "    <tr>\n",
              "      <th>197</th>\n",
              "      <td>52</td>\n",
              "      <td>2</td>\n",
              "      <td>2</td>\n",
              "      <td>2</td>\n",
              "      <td>9.894</td>\n",
              "      <td>drugX</td>\n",
              "    </tr>\n",
              "    <tr>\n",
              "      <th>198</th>\n",
              "      <td>23</td>\n",
              "      <td>2</td>\n",
              "      <td>2</td>\n",
              "      <td>1</td>\n",
              "      <td>14.020</td>\n",
              "      <td>drugX</td>\n",
              "    </tr>\n",
              "    <tr>\n",
              "      <th>199</th>\n",
              "      <td>40</td>\n",
              "      <td>1</td>\n",
              "      <td>1</td>\n",
              "      <td>1</td>\n",
              "      <td>11.349</td>\n",
              "      <td>drugX</td>\n",
              "    </tr>\n",
              "  </tbody>\n",
              "</table>\n",
              "<p>200 rows × 6 columns</p>\n",
              "</div>\n",
              "      <button class=\"colab-df-convert\" onclick=\"convertToInteractive('df-8dffe383-2eb8-4409-8082-d603d1f92506')\"\n",
              "              title=\"Convert this dataframe to an interactive table.\"\n",
              "              style=\"display:none;\">\n",
              "        \n",
              "  <svg xmlns=\"http://www.w3.org/2000/svg\" height=\"24px\"viewBox=\"0 0 24 24\"\n",
              "       width=\"24px\">\n",
              "    <path d=\"M0 0h24v24H0V0z\" fill=\"none\"/>\n",
              "    <path d=\"M18.56 5.44l.94 2.06.94-2.06 2.06-.94-2.06-.94-.94-2.06-.94 2.06-2.06.94zm-11 1L8.5 8.5l.94-2.06 2.06-.94-2.06-.94L8.5 2.5l-.94 2.06-2.06.94zm10 10l.94 2.06.94-2.06 2.06-.94-2.06-.94-.94-2.06-.94 2.06-2.06.94z\"/><path d=\"M17.41 7.96l-1.37-1.37c-.4-.4-.92-.59-1.43-.59-.52 0-1.04.2-1.43.59L10.3 9.45l-7.72 7.72c-.78.78-.78 2.05 0 2.83L4 21.41c.39.39.9.59 1.41.59.51 0 1.02-.2 1.41-.59l7.78-7.78 2.81-2.81c.8-.78.8-2.07 0-2.86zM5.41 20L4 18.59l7.72-7.72 1.47 1.35L5.41 20z\"/>\n",
              "  </svg>\n",
              "      </button>\n",
              "      \n",
              "  <style>\n",
              "    .colab-df-container {\n",
              "      display:flex;\n",
              "      flex-wrap:wrap;\n",
              "      gap: 12px;\n",
              "    }\n",
              "\n",
              "    .colab-df-convert {\n",
              "      background-color: #E8F0FE;\n",
              "      border: none;\n",
              "      border-radius: 50%;\n",
              "      cursor: pointer;\n",
              "      display: none;\n",
              "      fill: #1967D2;\n",
              "      height: 32px;\n",
              "      padding: 0 0 0 0;\n",
              "      width: 32px;\n",
              "    }\n",
              "\n",
              "    .colab-df-convert:hover {\n",
              "      background-color: #E2EBFA;\n",
              "      box-shadow: 0px 1px 2px rgba(60, 64, 67, 0.3), 0px 1px 3px 1px rgba(60, 64, 67, 0.15);\n",
              "      fill: #174EA6;\n",
              "    }\n",
              "\n",
              "    [theme=dark] .colab-df-convert {\n",
              "      background-color: #3B4455;\n",
              "      fill: #D2E3FC;\n",
              "    }\n",
              "\n",
              "    [theme=dark] .colab-df-convert:hover {\n",
              "      background-color: #434B5C;\n",
              "      box-shadow: 0px 1px 3px 1px rgba(0, 0, 0, 0.15);\n",
              "      filter: drop-shadow(0px 1px 2px rgba(0, 0, 0, 0.3));\n",
              "      fill: #FFFFFF;\n",
              "    }\n",
              "  </style>\n",
              "\n",
              "      <script>\n",
              "        const buttonEl =\n",
              "          document.querySelector('#df-8dffe383-2eb8-4409-8082-d603d1f92506 button.colab-df-convert');\n",
              "        buttonEl.style.display =\n",
              "          google.colab.kernel.accessAllowed ? 'block' : 'none';\n",
              "\n",
              "        async function convertToInteractive(key) {\n",
              "          const element = document.querySelector('#df-8dffe383-2eb8-4409-8082-d603d1f92506');\n",
              "          const dataTable =\n",
              "            await google.colab.kernel.invokeFunction('convertToInteractive',\n",
              "                                                     [key], {});\n",
              "          if (!dataTable) return;\n",
              "\n",
              "          const docLinkHtml = 'Like what you see? Visit the ' +\n",
              "            '<a target=\"_blank\" href=https://colab.research.google.com/notebooks/data_table.ipynb>data table notebook</a>'\n",
              "            + ' to learn more about interactive tables.';\n",
              "          element.innerHTML = '';\n",
              "          dataTable['output_type'] = 'display_data';\n",
              "          await google.colab.output.renderOutput(dataTable, element);\n",
              "          const docLink = document.createElement('div');\n",
              "          docLink.innerHTML = docLinkHtml;\n",
              "          element.appendChild(docLink);\n",
              "        }\n",
              "      </script>\n",
              "    </div>\n",
              "  </div>\n",
              "  "
            ]
          },
          "metadata": {},
          "execution_count": 92
        }
      ]
    },
    {
      "cell_type": "markdown",
      "source": [
        "# 2. Split data training and Testing"
      ],
      "metadata": {
        "id": "S9XrN17TVgI0"
      }
    },
    {
      "cell_type": "code",
      "source": [
        "# Pada tahap ini kita akan membagi data training sebanyak 70 % dan data testing sebanyak 30 %\n",
        "from sklearn.model_selection import train_test_split\n",
        "\n",
        "\n",
        "# Memisahkan Atribut dan label\n",
        "X = df.drop('Drug', axis = 1)\n",
        "y = df['Drug']\n",
        "\n",
        "# melakukan pemisahan data\n",
        "X_train, X_test, y_train, y_test = train_test_split(X, y, test_size=0.3, random_state=0)"
      ],
      "metadata": {
        "id": "ua00YBXDWDQS"
      },
      "execution_count": 93,
      "outputs": []
    },
    {
      "cell_type": "markdown",
      "source": [
        "# 3. Metode Klasifikasi"
      ],
      "metadata": {
        "id": "TAYOcPUsVnh4"
      }
    },
    {
      "cell_type": "code",
      "source": [
        "# karena ada banyak model yang kita bangun alangkah baiknya jika kita membuat variabel untuk menampung score pada model yang kita buat\n",
        "metode = []\n",
        "score = []\n",
        "result_dict = {\n",
        "    \"metode\" : metode,\n",
        "    \"score\" : score\n",
        "\n",
        "}"
      ],
      "metadata": {
        "id": "JYTSxy__B1YO"
      },
      "execution_count": 94,
      "outputs": []
    },
    {
      "cell_type": "markdown",
      "source": [
        "## 3.1 Decision Tree"
      ],
      "metadata": {
        "id": "JgMp0uxVpXpP"
      }
    },
    {
      "cell_type": "code",
      "source": [
        "# Membangun model Decision Tree\n",
        "from sklearn.tree import DecisionTreeClassifier\n",
        "\n",
        "# Membuat Variabel baru untuk training agar tidak tertimpa dengan variabel training yang awal\n",
        "X_train_modelDecisionTree = X_train \n",
        "y_train_modelDecisionTree = y_train\n",
        "\n",
        "\n",
        "modelDecisionTree =DecisionTreeClassifier(max_depth=3)\n",
        "modelDecisionTree.fit(X_train_modelDecisionTree, y_train_modelDecisionTree)"
      ],
      "metadata": {
        "id": "u4XspG9TvXM5",
        "colab": {
          "base_uri": "https://localhost:8080/"
        },
        "outputId": "4e1cff28-d91a-4f59-df7d-d3fd5788cfda"
      },
      "execution_count": 95,
      "outputs": [
        {
          "output_type": "execute_result",
          "data": {
            "text/plain": [
              "DecisionTreeClassifier(max_depth=3)"
            ]
          },
          "metadata": {},
          "execution_count": 95
        }
      ]
    },
    {
      "cell_type": "markdown",
      "source": [
        "## 3.1.1 Membuat Decision Tree"
      ],
      "metadata": {
        "id": "BeF9XfYY-jym"
      }
    },
    {
      "cell_type": "code",
      "source": [
        "import matplotlib.pyplot as plt\n",
        "from sklearn import tree\n",
        "\n",
        "plt.rcParams['figure.dpi'] = 45\n",
        "plt.subplots(figsize=(24,20))\n",
        "tree.plot_tree(modelDecisionTree, fontsize=20)\n",
        "plt.show()"
      ],
      "metadata": {
        "id": "-g-hLZhB7gmf",
        "colab": {
          "base_uri": "https://localhost:8080/",
          "height": 698
        },
        "outputId": "e555aab2-db40-40a1-9925-b0c072d8e0b2"
      },
      "execution_count": 96,
      "outputs": [
        {
          "output_type": "display_data",
          "data": {
            "text/plain": [
              "<Figure size 1080x900 with 1 Axes>"
            ],
            "image/png": "[encoded data removed]"
          },
          "metadata": {
            "needs_background": "light"
          }
        }
      ]
    },
    {
      "cell_type": "markdown",
      "source": [
        "## 3.2 Naive Bayessian "
      ],
      "metadata": {
        "id": "Z-UpTI6opbsA"
      }
    },
    {
      "cell_type": "code",
      "source": [
        "from sklearn.naive_bayes import GaussianNB\n",
        "\n",
        "# Membuat Variabel baru untuk training agar tidak tertimpa dengan variabel training yang awal\n",
        "X_train_modelNaiveBayessian = X_train \n",
        "y_train_modelNaiveBayessian = y_train\n",
        "\n",
        "# Membuat variabel baru untuk testing agar tidak tertimpa oleh variabel awal\n",
        "X_test_modelNaiveBayessian = X_test\n",
        "y_test_modelNaiveBayessian = y_test\n",
        "\n",
        "modelNaiveBayessian = GaussianNB()\n",
        "modelNaiveBayessian.fit(X_train_modelNaiveBayessian, y_train_modelNaiveBayessian)\n",
        "\n",
        "y_pred_modelNaiveBayessian = modelNaiveBayessian.predict(X_test_modelNaiveBayessian)"
      ],
      "metadata": {
        "id": "4p7uIVlFlv6g"
      },
      "execution_count": 97,
      "outputs": []
    },
    {
      "cell_type": "markdown",
      "source": [
        "## 3.3 Support Vector Machine"
      ],
      "metadata": {
        "id": "OJLaCTPTpiDK"
      }
    },
    {
      "cell_type": "code",
      "source": [
        "# logistic regression for multi-class classification using a one-vs-rest\n",
        "from sklearn.datasets import make_classification\n",
        "from sklearn.linear_model import LogisticRegression\n",
        "from sklearn.multiclass import OneVsRestClassifier\n",
        "#Variabel Baru\n",
        "X_train_modelSVM = X_train \n",
        "y_train_modelSVM = y_train\n",
        "X_test_modelSVM = X_test\n",
        "y_test_modelSVM = y_test\n",
        "# define model\n",
        "modelSVM = LogisticRegression()\n",
        "model1=LogisticRegression().fit(X_test_modelSVM, y_test_modelSVM)\n",
        "# define the ovr strategy\n",
        "ovr = OneVsRestClassifier(modelSVM)\n",
        "# fit model\n",
        "ovr.fit(X, y)\n",
        "# make predictions\n",
        "yhat = ovr.predict(X)"
      ],
      "metadata": {
        "id": "CuutTCllHgVg",
        "colab": {
          "base_uri": "https://localhost:8080/"
        },
        "outputId": "9c11f3fb-34fb-4c43-9c73-1ef581e6e054"
      },
      "execution_count": 98,
      "outputs": [
        {
          "output_type": "stream",
          "name": "stderr",
          "text": [
            "/usr/local/lib/python3.7/dist-packages/sklearn/linear_model/_logistic.py:818: ConvergenceWarning: lbfgs failed to converge (status=1):\n",
            "STOP: TOTAL NO. of ITERATIONS REACHED LIMIT.\n",
            "\n",
            "Increase the number of iterations (max_iter) or scale the data as shown in:\n",
            "    https://scikit-learn.org/stable/modules/preprocessing.html\n",
            "Please also refer to the documentation for alternative solver options:\n",
            "    https://scikit-learn.org/stable/modules/linear_model.html#logistic-regression\n",
            "  extra_warning_msg=_LOGISTIC_SOLVER_CONVERGENCE_MSG,\n"
          ]
        }
      ]
    },
    {
      "cell_type": "code",
      "source": [
        "#Membuat SVM\n",
        "from sklearn.datasets import make_blobs\n",
        "ovr, yhat = make_blobs(n_samples=200, centers=5,\n",
        "                  random_state=0, cluster_std=1)\n",
        "\n",
        "plt.scatter(ovr[:, 0], ovr[:, 1], c=yhat, s=30, cmap='autumn');"
      ],
      "metadata": {
        "id": "H4FbKrW3a4qq",
        "colab": {
          "base_uri": "https://localhost:8080/",
          "height": 171
        },
        "outputId": "e54d8166-c877-4d2c-8b9a-9d7f10629fb3"
      },
      "execution_count": 99,
      "outputs": [
        {
          "output_type": "display_data",
          "data": {
            "text/plain": [
              "<Figure size 270x180 with 1 Axes>"
            ],
            "image/png": "[encoded data removed]"
          },
          "metadata": {
            "needs_background": "light"
          }
        }
      ]
    },
    {
      "cell_type": "markdown",
      "source": [
        "##3.4 KNN (K - Nearest Neighbour)"
      ],
      "metadata": {
        "id": "HmKeaFQBZyjN"
      }
    },
    {
      "cell_type": "code",
      "source": [
        "# Mengaktifkan package untuk mengubah skala data\n",
        "from sklearn.preprocessing import StandardScaler\n",
        "\n",
        "# Membuat Variabel baru untuk training agar tidak tertimpa dengan variabel training yang awal\n",
        "X_train_modelknn = X_train \n",
        "y_train_modelknn = y_train\n",
        "\n",
        "# Membuat variabel baru untuk testing agar tidak tertimpa oleh variabel awal\n",
        "X_test_modelknn = X_test\n",
        "y_test_modelknn = y_test\n",
        "\n",
        "scaler = StandardScaler()\n",
        "scaler.fit(X_train_modelknn)\n",
        "\n",
        "X_train_modelknn = scaler.transform(X_train_modelknn)\n",
        "X_test_modelknn = scaler.transform(X_test_modelknn)"
      ],
      "metadata": {
        "id": "Vl-cLJ7pccw8"
      },
      "execution_count": 100,
      "outputs": []
    },
    {
      "cell_type": "code",
      "source": [
        "# Mengaktifkan package untuk klasifikasi KNN dari sklearn\n",
        "from sklearn.neighbors import KNeighborsClassifier\n",
        "\n",
        "KNN = KNeighborsClassifier (n_neighbors=4)"
      ],
      "metadata": {
        "id": "h_vK8Unve7NM"
      },
      "execution_count": 101,
      "outputs": []
    },
    {
      "cell_type": "code",
      "source": [
        "# Mengaktifkan fungsi klasifikasi dan memasukkan data training \n",
        "KNN.fit(X_train_modelknn, y_train_modelknn)"
      ],
      "metadata": {
        "id": "m3Wb03BFf7CP",
        "colab": {
          "base_uri": "https://localhost:8080/"
        },
        "outputId": "6ad07e13-e129-4151-9e7f-ef28ccf55d4e"
      },
      "execution_count": 102,
      "outputs": [
        {
          "output_type": "execute_result",
          "data": {
            "text/plain": [
              "KNeighborsClassifier(n_neighbors=4)"
            ]
          },
          "metadata": {},
          "execution_count": 102
        }
      ]
    },
    {
      "cell_type": "code",
      "source": [
        "# Menentukan prediksi\n",
        "y_pred_modelKNN = KNN.predict (X_test_modelknn)\n",
        "y_pred_modelKNN"
      ],
      "metadata": {
        "id": "KQRR7DPbgGda",
        "colab": {
          "base_uri": "https://localhost:8080/"
        },
        "outputId": "cc6f2f57-c6c8-4c4a-e1f2-36e78eeefe01"
      },
      "execution_count": 103,
      "outputs": [
        {
          "output_type": "execute_result",
          "data": {
            "text/plain": [
              "array(['drugC', 'drugX', 'DrugY', 'DrugY', 'DrugY', 'drugX', 'drugX',\n",
              "       'drugX', 'DrugY', 'drugX', 'drugA', 'DrugY', 'DrugY', 'drugX',\n",
              "       'drugB', 'drugC', 'DrugY', 'DrugY', 'drugX', 'drugA', 'DrugY',\n",
              "       'drugX', 'drugB', 'drugX', 'DrugY', 'drugX', 'drugX', 'DrugY',\n",
              "       'DrugY', 'DrugY', 'drugX', 'drugC', 'drugA', 'drugX', 'DrugY',\n",
              "       'DrugY', 'drugX', 'DrugY', 'DrugY', 'DrugY', 'drugA', 'drugA',\n",
              "       'DrugY', 'drugX', 'DrugY', 'drugX', 'drugX', 'drugX', 'DrugY',\n",
              "       'drugB', 'DrugY', 'drugB', 'DrugY', 'DrugY', 'drugC', 'DrugY',\n",
              "       'drugX', 'drugX', 'DrugY', 'drugB'], dtype=object)"
            ]
          },
          "metadata": {},
          "execution_count": 103
        }
      ]
    },
    {
      "cell_type": "code",
      "source": [
        "# Menentukan probabilitas prediksi\n",
        "KNN.predict_proba(X_test_modelknn)"
      ],
      "metadata": {
        "id": "HXsWOGvQgP2B",
        "colab": {
          "base_uri": "https://localhost:8080/"
        },
        "outputId": "fd04020c-a17d-4f26-eb5e-8db6467730cf"
      },
      "execution_count": 104,
      "outputs": [
        {
          "output_type": "execute_result",
          "data": {
            "text/plain": [
              "array([[0.  , 0.  , 0.  , 0.5 , 0.5 ],\n",
              "       [0.  , 0.  , 0.  , 0.25, 0.75],\n",
              "       [0.75, 0.  , 0.  , 0.25, 0.  ],\n",
              "       [1.  , 0.  , 0.  , 0.  , 0.  ],\n",
              "       [0.75, 0.  , 0.  , 0.  , 0.25],\n",
              "       [0.25, 0.  , 0.  , 0.  , 0.75],\n",
              "       [0.  , 0.25, 0.  , 0.  , 0.75],\n",
              "       [0.25, 0.  , 0.  , 0.  , 0.75],\n",
              "       [0.5 , 0.  , 0.  , 0.5 , 0.  ],\n",
              "       [0.  , 0.  , 0.  , 0.  , 1.  ],\n",
              "       [0.  , 1.  , 0.  , 0.  , 0.  ],\n",
              "       [1.  , 0.  , 0.  , 0.  , 0.  ],\n",
              "       [1.  , 0.  , 0.  , 0.  , 0.  ],\n",
              "       [0.25, 0.  , 0.  , 0.  , 0.75],\n",
              "       [0.25, 0.  , 0.75, 0.  , 0.  ],\n",
              "       [0.25, 0.  , 0.  , 0.75, 0.  ],\n",
              "       [1.  , 0.  , 0.  , 0.  , 0.  ],\n",
              "       [0.5 , 0.  , 0.  , 0.  , 0.5 ],\n",
              "       [0.  , 0.  , 0.  , 0.  , 1.  ],\n",
              "       [0.25, 0.75, 0.  , 0.  , 0.  ],\n",
              "       [0.75, 0.25, 0.  , 0.  , 0.  ],\n",
              "       [0.  , 0.  , 0.  , 0.  , 1.  ],\n",
              "       [0.  , 0.  , 0.5 , 0.  , 0.5 ],\n",
              "       [0.25, 0.  , 0.  , 0.  , 0.75],\n",
              "       [1.  , 0.  , 0.  , 0.  , 0.  ],\n",
              "       [0.25, 0.  , 0.  , 0.  , 0.75],\n",
              "       [0.  , 0.  , 0.  , 0.  , 1.  ],\n",
              "       [1.  , 0.  , 0.  , 0.  , 0.  ],\n",
              "       [1.  , 0.  , 0.  , 0.  , 0.  ],\n",
              "       [0.5 , 0.  , 0.  , 0.  , 0.5 ],\n",
              "       [0.  , 0.  , 0.  , 0.  , 1.  ],\n",
              "       [0.25, 0.  , 0.  , 0.5 , 0.25],\n",
              "       [0.  , 0.5 , 0.5 , 0.  , 0.  ],\n",
              "       [0.  , 0.  , 0.25, 0.  , 0.75],\n",
              "       [1.  , 0.  , 0.  , 0.  , 0.  ],\n",
              "       [0.5 , 0.  , 0.5 , 0.  , 0.  ],\n",
              "       [0.  , 0.  , 0.  , 0.25, 0.75],\n",
              "       [0.5 , 0.  , 0.  , 0.5 , 0.  ],\n",
              "       [0.25, 0.25, 0.25, 0.  , 0.25],\n",
              "       [0.5 , 0.  , 0.  , 0.  , 0.5 ],\n",
              "       [0.25, 0.75, 0.  , 0.  , 0.  ],\n",
              "       [0.25, 0.75, 0.  , 0.  , 0.  ],\n",
              "       [1.  , 0.  , 0.  , 0.  , 0.  ],\n",
              "       [0.25, 0.  , 0.  , 0.  , 0.75],\n",
              "       [1.  , 0.  , 0.  , 0.  , 0.  ],\n",
              "       [0.  , 0.  , 0.  , 0.  , 1.  ],\n",
              "       [0.25, 0.  , 0.  , 0.  , 0.75],\n",
              "       [0.25, 0.  , 0.  , 0.  , 0.75],\n",
              "       [0.5 , 0.25, 0.  , 0.  , 0.25],\n",
              "       [0.  , 0.  , 0.5 , 0.  , 0.5 ],\n",
              "       [0.75, 0.  , 0.  , 0.  , 0.25],\n",
              "       [0.  , 0.  , 0.75, 0.  , 0.25],\n",
              "       [1.  , 0.  , 0.  , 0.  , 0.  ],\n",
              "       [1.  , 0.  , 0.  , 0.  , 0.  ],\n",
              "       [0.  , 0.  , 0.  , 0.5 , 0.5 ],\n",
              "       [1.  , 0.  , 0.  , 0.  , 0.  ],\n",
              "       [0.  , 0.25, 0.  , 0.  , 0.75],\n",
              "       [0.  , 0.  , 0.  , 0.25, 0.75],\n",
              "       [0.5 , 0.  , 0.  , 0.  , 0.5 ],\n",
              "       [0.  , 0.25, 0.75, 0.  , 0.  ]])"
            ]
          },
          "metadata": {},
          "execution_count": 104
        }
      ]
    },
    {
      "cell_type": "markdown",
      "source": [
        "# 4. Classification Report\n"
      ],
      "metadata": {
        "id": "h7ObPIrHWFJY"
      }
    },
    {
      "cell_type": "markdown",
      "source": [
        "## 4.1 Decision Tree"
      ],
      "metadata": {
        "id": "UwcwsgcOK0eD"
      }
    },
    {
      "cell_type": "code",
      "source": [
        "from sklearn.metrics import classification_report\n",
        "\n",
        "# Membuat variabel baru untuk testing agar tidak tertimpa oleh variabel awal\n",
        "X_test_modelDecisionTree = X_test\n",
        "y_test_modelDecisionTree = y_test\n",
        "\n",
        "y_pred_modelDecisionTree = modelDecisionTree.predict(X_test_modelDecisionTree)\n",
        "\n",
        "print(classification_report(y_test_modelDecisionTree, y_pred_modelDecisionTree))\n"
      ],
      "metadata": {
        "id": "OOFGehnc7jdo",
        "colab": {
          "base_uri": "https://localhost:8080/"
        },
        "outputId": "c3e990ac-b3f3-45b0-ad8e-83beaacb29b6"
      },
      "execution_count": 105,
      "outputs": [
        {
          "output_type": "stream",
          "name": "stdout",
          "text": [
            "              precision    recall  f1-score   support\n",
            "\n",
            "       DrugY       1.00      1.00      1.00        30\n",
            "       drugA       1.00      1.00      1.00         5\n",
            "       drugB       1.00      1.00      1.00         3\n",
            "       drugC       0.36      1.00      0.53         4\n",
            "       drugX       1.00      0.61      0.76        18\n",
            "\n",
            "    accuracy                           0.88        60\n",
            "   macro avg       0.87      0.92      0.86        60\n",
            "weighted avg       0.96      0.88      0.90        60\n",
            "\n"
          ]
        }
      ]
    },
    {
      "cell_type": "markdown",
      "source": [
        "## 4.1.1 Visualiasasi Confusion Matrix dari Model Decision Tree"
      ],
      "metadata": {
        "id": "e2IY4eQzna9E"
      }
    },
    {
      "cell_type": "code",
      "source": [
        "import matplotlib.pyplot as plt\n",
        "from sklearn.metrics._plot.confusion_matrix import confusion_matrix\n",
        "from sklearn.metrics import confusion_matrix, ConfusionMatrixDisplay\n",
        "\n",
        "cm = confusion_matrix(y_test_modelDecisionTree,y_pred_modelDecisionTree, labels= modelDecisionTree.classes_)\n",
        "disp = ConfusionMatrixDisplay(confusion_matrix = cm, display_labels=modelDecisionTree.classes_)\n",
        "\n",
        "disp.plot()\n",
        "plt.show()\n"
      ],
      "metadata": {
        "id": "sbSsV299nUD8",
        "colab": {
          "base_uri": "https://localhost:8080/",
          "height": 180
        },
        "outputId": "3e8b3b87-2733-46cb-a96d-dc69fa7a2635"
      },
      "execution_count": 106,
      "outputs": [
        {
          "output_type": "display_data",
          "data": {
            "text/plain": [
              "<Figure size 270x180 with 2 Axes>"
            ],
            "image/png": "[encoded data removed]"
          },
          "metadata": {
            "needs_background": "light"
          }
        }
      ]
    },
    {
      "cell_type": "code",
      "source": [
        "# Mencetak Akurasi, precision, recall, dan f1-score untuk model decision tree\n",
        "from sklearn.metrics import accuracy_score, precision_score, recall_score, f1_score\n",
        "\n",
        "print(\"Dengan menggunakan Decision Tree maka didapat score berikut ini: \")\n",
        "\n",
        "print('Akurasi: ', accuracy_score(y_test_modelDecisionTree, y_pred_modelDecisionTree))\n",
        "print('Precision: ', precision_score(y_test_modelDecisionTree, y_pred_modelDecisionTree, average='weighted'))\n",
        "print('Recall: ', recall_score(y_test_modelDecisionTree, y_pred_modelDecisionTree, average='weighted'))\n",
        "print('F1-Score: ', f1_score(y_test_modelDecisionTree, y_pred_modelDecisionTree, average='weighted'))\n",
        "\n",
        "\n",
        "metode.append('Decision Tree')\n",
        "score.append(\"{:.2%}\".format(accuracy_score(y_test_modelDecisionTree, y_pred_modelDecisionTree)))\n"
      ],
      "metadata": {
        "id": "MD3l0BY87q_W",
        "colab": {
          "base_uri": "https://localhost:8080/"
        },
        "outputId": "32020dda-5f28-4099-c359-bbcdfdd720ec"
      },
      "execution_count": 107,
      "outputs": [
        {
          "output_type": "stream",
          "name": "stdout",
          "text": [
            "Dengan menggunakan Decision Tree maka didapat score berikut ini: \n",
            "Akurasi:  0.8833333333333333\n",
            "Precision:  0.9575757575757575\n",
            "Recall:  0.8833333333333333\n",
            "F1-Score:  0.8964750957854406\n"
          ]
        }
      ]
    },
    {
      "cell_type": "markdown",
      "source": [
        "## 4.2 Naive Bayessian"
      ],
      "metadata": {
        "id": "DWp5GGz5K4AS"
      }
    },
    {
      "cell_type": "code",
      "source": [
        "from sklearn.metrics import accuracy_score\n",
        "print(classification_report(y_test_modelNaiveBayessian, y_pred_modelNaiveBayessian))\n",
        "\n",
        "NaiveAcc = accuracy_score(y_pred_modelNaiveBayessian,y_test_modelNaiveBayessian)\n",
        "\n"
      ],
      "metadata": {
        "id": "819xRnkVXqLS",
        "colab": {
          "base_uri": "https://localhost:8080/"
        },
        "outputId": "dc078427-f209-45d6-c014-556f3a97fdf3"
      },
      "execution_count": 108,
      "outputs": [
        {
          "output_type": "stream",
          "name": "stdout",
          "text": [
            "              precision    recall  f1-score   support\n",
            "\n",
            "       DrugY       1.00      0.83      0.91        30\n",
            "       drugA       0.71      1.00      0.83         5\n",
            "       drugB       0.75      1.00      0.86         3\n",
            "       drugC       0.67      1.00      0.80         4\n",
            "       drugX       1.00      1.00      1.00        18\n",
            "\n",
            "    accuracy                           0.92        60\n",
            "   macro avg       0.83      0.97      0.88        60\n",
            "weighted avg       0.94      0.92      0.92        60\n",
            "\n"
          ]
        }
      ]
    },
    {
      "cell_type": "markdown",
      "source": [
        "## 4.2.1 Visualisasi Confusion Matrix dari model Naive Bayessian"
      ],
      "metadata": {
        "id": "gwkgPKqFq_gr"
      }
    },
    {
      "cell_type": "code",
      "source": [
        "import matplotlib.pyplot as plt\n",
        "from sklearn.metrics._plot.confusion_matrix import confusion_matrix\n",
        "from sklearn.metrics import confusion_matrix, ConfusionMatrixDisplay\n",
        "\n",
        "cm = confusion_matrix(y_test_modelNaiveBayessian,y_pred_modelNaiveBayessian, labels= modelNaiveBayessian.classes_)\n",
        "disp = ConfusionMatrixDisplay(confusion_matrix = cm, display_labels=modelNaiveBayessian.classes_)\n",
        "\n",
        "disp.plot()\n",
        "plt.show()\n"
      ],
      "metadata": {
        "id": "5mbB_kMCrKOs",
        "colab": {
          "base_uri": "https://localhost:8080/",
          "height": 180
        },
        "outputId": "f1477f5b-e135-494e-ed6f-9a04ce1135a1"
      },
      "execution_count": 109,
      "outputs": [
        {
          "output_type": "display_data",
          "data": {
            "text/plain": [
              "<Figure size 270x180 with 2 Axes>"
            ],
            "image/png": "[encoded data removed]"
          },
          "metadata": {
            "needs_background": "light"
          }
        }
      ]
    },
    {
      "cell_type": "code",
      "source": [
        "# Mencetak Akurasi, precision, recall, dan f1-score untuk model decision tree\n",
        "from sklearn.metrics import accuracy_score, precision_score, recall_score, f1_score\n",
        "\n",
        "print(\"Dengan menggunakan Naive Bayessian maka didapat score berikut ini: \")\n",
        "\n",
        "print('Akurasi: ', accuracy_score(y_test_modelNaiveBayessian, y_pred_modelNaiveBayessian))\n",
        "print('Precision: ', precision_score(y_test_modelNaiveBayessian, y_pred_modelNaiveBayessian, average='weighted'))\n",
        "print('Recall: ', recall_score(y_test_modelNaiveBayessian, y_pred_modelNaiveBayessian, average='weighted'))\n",
        "print('F1-Score: ', f1_score(y_test_modelNaiveBayessian, y_pred_modelNaiveBayessian, average='weighted'))\n",
        "\n",
        "metode.append(\"Naive Bayessian\")\n",
        "score.append(\"{:.2%}\".format(accuracy_score(y_test_modelNaiveBayessian, y_pred_modelNaiveBayessian)))\n"
      ],
      "metadata": {
        "id": "vUOGc2satAlm",
        "colab": {
          "base_uri": "https://localhost:8080/"
        },
        "outputId": "08c3d768-da01-43ba-e62a-04705f1e3692"
      },
      "execution_count": 110,
      "outputs": [
        {
          "output_type": "stream",
          "name": "stdout",
          "text": [
            "Dengan menggunakan Naive Bayessian maka didapat score berikut ini: \n",
            "Akurasi:  0.9166666666666666\n",
            "Precision:  0.9414682539682538\n",
            "Recall:  0.9166666666666666\n",
            "F1-Score:  0.9201803751803752\n"
          ]
        }
      ]
    },
    {
      "cell_type": "markdown",
      "source": [
        "## 4.3 KNN"
      ],
      "metadata": {
        "id": "xwqwCHylRew4"
      }
    },
    {
      "cell_type": "code",
      "source": [
        "# Print hasil prediksi\n",
        "print(classification_report(y_test_modelknn, y_pred_modelKNN))"
      ],
      "metadata": {
        "id": "tQgiA5oiQiiJ",
        "colab": {
          "base_uri": "https://localhost:8080/"
        },
        "outputId": "65940ddc-6f56-4a19-b015-b6c8ec45457e"
      },
      "execution_count": 111,
      "outputs": [
        {
          "output_type": "stream",
          "name": "stdout",
          "text": [
            "              precision    recall  f1-score   support\n",
            "\n",
            "       DrugY       0.85      0.73      0.79        30\n",
            "       drugA       0.60      0.60      0.60         5\n",
            "       drugB       0.60      1.00      0.75         3\n",
            "       drugC       1.00      1.00      1.00         4\n",
            "       drugX       0.75      0.83      0.79        18\n",
            "\n",
            "    accuracy                           0.78        60\n",
            "   macro avg       0.76      0.83      0.79        60\n",
            "weighted avg       0.79      0.78      0.78        60\n",
            "\n"
          ]
        }
      ]
    },
    {
      "cell_type": "code",
      "source": [
        "# Import package untuk melihat keakuratan data prediksi\n",
        "from sklearn.metrics import classification_report, confusion_matrix\n",
        "\n",
        "# Menampilkan matriks hasil prediksi\n",
        "print(confusion_matrix(y_test_modelknn, y_pred_modelKNN))"
      ],
      "metadata": {
        "id": "HmgKDg2lgmQ3",
        "colab": {
          "base_uri": "https://localhost:8080/"
        },
        "outputId": "3f19ac1c-a5d9-41d5-d762-a1add2e2aa37"
      },
      "execution_count": 112,
      "outputs": [
        {
          "output_type": "stream",
          "name": "stdout",
          "text": [
            "[[22  2  1  0  5]\n",
            " [ 2  3  0  0  0]\n",
            " [ 0  0  3  0  0]\n",
            " [ 0  0  0  4  0]\n",
            " [ 2  0  1  0 15]]\n"
          ]
        }
      ]
    },
    {
      "cell_type": "markdown",
      "source": [
        "### 4.3.1 Visualisasi Confusion Matrix KNN"
      ],
      "metadata": {
        "id": "gvF1cWvHM118"
      }
    },
    {
      "cell_type": "code",
      "source": [
        "import matplotlib.pyplot as plt\n",
        "from sklearn.metrics._plot.confusion_matrix import confusion_matrix\n",
        "from sklearn.metrics import confusion_matrix, ConfusionMatrixDisplay\n",
        "\n",
        "cm = confusion_matrix(y_test_modelknn,y_pred_modelKNN, labels= KNN.classes_)\n",
        "disp = ConfusionMatrixDisplay(confusion_matrix = cm, display_labels=KNN.classes_)\n",
        "\n",
        "disp.plot()\n",
        "plt.show()\n"
      ],
      "metadata": {
        "colab": {
          "base_uri": "https://localhost:8080/",
          "height": 178
        },
        "id": "2aqTxJiYM5nT",
        "outputId": "0b2fae81-e144-4274-cb91-d3f400501d44"
      },
      "execution_count": 113,
      "outputs": [
        {
          "output_type": "display_data",
          "data": {
            "text/plain": [
              "<Figure size 270x180 with 2 Axes>"
            ],
            "image/png": "[encoded data removed]"
          },
          "metadata": {
            "needs_background": "light"
          }
        }
      ]
    },
    {
      "cell_type": "code",
      "source": [
        "# Mencetak Akurasi, precision, recall, dan f1-score untuk model decision tree\n",
        "from sklearn.metrics import accuracy_score, precision_score, recall_score, f1_score\n",
        "\n",
        "print(\"Dengan menggunakan Naive Bayessian maka didapat score berikut ini: \")\n",
        "\n",
        "print('Akurasi: ', accuracy_score(y_test_modelknn, y_pred_modelKNN))\n",
        "print('Precision: ', precision_score(y_test_modelknn, y_pred_modelKNN, average='weighted'))\n",
        "print('Recall: ', recall_score(y_test_modelknn, y_pred_modelKNN, average='weighted'))\n",
        "print('F1-Score: ', f1_score(y_test_modelknn, y_pred_modelKNN, average='weighted'))\n",
        "\n",
        "metode.append(\"KNN\")\n",
        "score.append(\"{:.2%}\".format(accuracy_score(y_test_modelknn, y_pred_modelKNN)))\n"
      ],
      "metadata": {
        "colab": {
          "base_uri": "https://localhost:8080/"
        },
        "id": "SZ7V09DRM0hD",
        "outputId": "2fc6b593-d563-4c15-dc56-999db787ca26"
      },
      "execution_count": 114,
      "outputs": [
        {
          "output_type": "stream",
          "name": "stdout",
          "text": [
            "Dengan menggunakan Naive Bayessian maka didapat score berikut ini: \n",
            "Akurasi:  0.7833333333333333\n",
            "Precision:  0.7947435897435897\n",
            "Recall:  0.7833333333333333\n",
            "F1-Score:  0.7838659147869673\n"
          ]
        }
      ]
    },
    {
      "cell_type": "markdown",
      "source": [
        "## 4.4 SVM"
      ],
      "metadata": {
        "id": "Cm8etbPXqnRC"
      }
    },
    {
      "cell_type": "code",
      "source": [
        "from sklearn.metrics import classification_report\n",
        "y_pred_modelSVM=model1.predict(X_test_modelSVM)\n",
        "\n",
        "print(classification_report(y_test_modelSVM, y_pred_modelSVM))"
      ],
      "metadata": {
        "colab": {
          "base_uri": "https://localhost:8080/"
        },
        "id": "gc3ZQRe-2GJJ",
        "outputId": "ed9fba4e-5f6f-418f-dbb7-b74393c93999"
      },
      "execution_count": 115,
      "outputs": [
        {
          "output_type": "stream",
          "name": "stdout",
          "text": [
            "              precision    recall  f1-score   support\n",
            "\n",
            "       DrugY       0.94      1.00      0.97        30\n",
            "       drugA       1.00      1.00      1.00         5\n",
            "       drugB       1.00      0.33      0.50         3\n",
            "       drugC       0.67      0.50      0.57         4\n",
            "       drugX       0.84      0.89      0.86        18\n",
            "\n",
            "    accuracy                           0.90        60\n",
            "   macro avg       0.89      0.74      0.78        60\n",
            "weighted avg       0.90      0.90      0.89        60\n",
            "\n"
          ]
        }
      ]
    },
    {
      "cell_type": "markdown",
      "source": [
        "### 4.4.1 Visualisasi Confusion Matrix SVM"
      ],
      "metadata": {
        "id": "2NCoRsqlq_JB"
      }
    },
    {
      "cell_type": "code",
      "source": [
        "import seaborn as sn\n",
        "\n",
        "#mengimplementasikan testing data dan hasil prediksi dalam confusion matrix\n",
        "cm = confusion_matrix(y_test_modelSVM, y_pred_modelSVM)\n",
        " \n",
        "#membuat plotting confusion matrix\n",
        "%matplotlib inline\n",
        "plt.figure (figsize=(10,7))\n",
        "sn.heatmap(cm, annot=True)\n",
        "plt.xlabel('Predicted')\n",
        "plt.ylabel('Truth')"
      ],
      "metadata": {
        "colab": {
          "base_uri": "https://localhost:8080/",
          "height": 463
        },
        "id": "SuWXSw-m2KzN",
        "outputId": "b071465a-96d3-4d47-d1f6-424a2bbb67a0"
      },
      "execution_count": 116,
      "outputs": [
        {
          "output_type": "execute_result",
          "data": {
            "text/plain": [
              "Text(69.0, 0.5, 'Truth')"
            ]
          },
          "metadata": {},
          "execution_count": 116
        },
        {
          "output_type": "display_data",
          "data": {
            "text/plain": [
              "<Figure size 720x504 with 2 Axes>"
            ],
            "image/png": "[encoded data removed]"
          },
          "metadata": {
            "needs_background": "light"
          }
        }
      ]
    },
    {
      "cell_type": "code",
      "source": [
        "# Mencetak Akurasi, precision, recall, dan f1-score untuk model decision tree\n",
        "from sklearn.metrics import accuracy_score, precision_score, recall_score, f1_score\n",
        "\n",
        "print(\"Dengan menggunakan Naive Bayessian maka didapat score berikut ini: \")\n",
        "\n",
        "print('Akurasi: ', accuracy_score(y_test_modelSVM, y_pred_modelSVM))\n",
        "print('Precision: ', precision_score(y_test_modelSVM, y_pred_modelSVM, average='weighted'))\n",
        "print('Recall: ', recall_score(y_test_modelSVM, y_pred_modelSVM, average='weighted'))\n",
        "print('F1-Score: ', f1_score(y_test_modelSVM, y_pred_modelSVM, average='weighted'))\n",
        "\n",
        "metode.append(\"SVM\")\n",
        "score.append(\"{:.2%}\".format(accuracy_score(y_test_modelSVM, y_pred_modelSVM)))\n"
      ],
      "metadata": {
        "colab": {
          "base_uri": "https://localhost:8080/"
        },
        "id": "uWWRjgIxLFzf",
        "outputId": "ae0b5e40-de3d-48ce-b2c5-f5d76c8b3395"
      },
      "execution_count": 117,
      "outputs": [
        {
          "output_type": "stream",
          "name": "stdout",
          "text": [
            "Dengan menggunakan Naive Bayessian maka didapat score berikut ini: \n",
            "Akurasi:  0.9\n",
            "Precision:  0.8991593567251461\n",
            "Recall:  0.9\n",
            "F1-Score:  0.8897589986299664\n"
          ]
        }
      ]
    },
    {
      "cell_type": "markdown",
      "source": [
        "# 5. Kesimpulan"
      ],
      "metadata": {
        "id": "fymx1P5A-2aA"
      }
    },
    {
      "cell_type": "code",
      "source": [
        "df_result = pd.DataFrame(result_dict)\n",
        "\n",
        "df_result"
      ],
      "metadata": {
        "id": "-_A8UR33BlA3",
        "colab": {
          "base_uri": "https://localhost:8080/",
          "height": 175
        },
        "outputId": "3548b39a-92d5-41a2-8c66-2ed723055b27"
      },
      "execution_count": 118,
      "outputs": [
        {
          "output_type": "execute_result",
          "data": {
            "text/plain": [
              "            metode   score\n",
              "0    Decision Tree  88.33%\n",
              "1  Naive Bayessian  91.67%\n",
              "2              KNN  78.33%\n",
              "3              SVM  90.00%"
            ],
            "text/html": [
              "\n",
              "  <div id=\"df-fa2a7582-47b5-4ebe-b771-876fdc4c53c7\">\n",
              "    <div class=\"colab-df-container\">\n",
              "      <div>\n",
              "<style scoped>\n",
              "    .dataframe tbody tr th:only-of-type {\n",
              "        vertical-align: middle;\n",
              "    }\n",
              "\n",
              "    .dataframe tbody tr th {\n",
              "        vertical-align: top;\n",
              "    }\n",
              "\n",
              "    .dataframe thead th {\n",
              "        text-align: right;\n",
              "    }\n",
              "</style>\n",
              "<table border=\"1\" class=\"dataframe\">\n",
              "  <thead>\n",
              "    <tr style=\"text-align: right;\">\n",
              "      <th></th>\n",
              "      <th>metode</th>\n",
              "      <th>score</th>\n",
              "    </tr>\n",
              "  </thead>\n",
              "  <tbody>\n",
              "    <tr>\n",
              "      <th>0</th>\n",
              "      <td>Decision Tree</td>\n",
              "      <td>88.33%</td>\n",
              "    </tr>\n",
              "    <tr>\n",
              "      <th>1</th>\n",
              "      <td>Naive Bayessian</td>\n",
              "      <td>91.67%</td>\n",
              "    </tr>\n",
              "    <tr>\n",
              "      <th>2</th>\n",
              "      <td>KNN</td>\n",
              "      <td>78.33%</td>\n",
              "    </tr>\n",
              "    <tr>\n",
              "      <th>3</th>\n",
              "      <td>SVM</td>\n",
              "      <td>90.00%</td>\n",
              "    </tr>\n",
              "  </tbody>\n",
              "</table>\n",
              "</div>\n",
              "      <button class=\"colab-df-convert\" onclick=\"convertToInteractive('df-fa2a7582-47b5-4ebe-b771-876fdc4c53c7')\"\n",
              "              title=\"Convert this dataframe to an interactive table.\"\n",
              "              style=\"display:none;\">\n",
              "        \n",
              "  <svg xmlns=\"http://www.w3.org/2000/svg\" height=\"24px\"viewBox=\"0 0 24 24\"\n",
              "       width=\"24px\">\n",
              "    <path d=\"M0 0h24v24H0V0z\" fill=\"none\"/>\n",
              "    <path d=\"M18.56 5.44l.94 2.06.94-2.06 2.06-.94-2.06-.94-.94-2.06-.94 2.06-2.06.94zm-11 1L8.5 8.5l.94-2.06 2.06-.94-2.06-.94L8.5 2.5l-.94 2.06-2.06.94zm10 10l.94 2.06.94-2.06 2.06-.94-2.06-.94-.94-2.06-.94 2.06-2.06.94z\"/><path d=\"M17.41 7.96l-1.37-1.37c-.4-.4-.92-.59-1.43-.59-.52 0-1.04.2-1.43.59L10.3 9.45l-7.72 7.72c-.78.78-.78 2.05 0 2.83L4 21.41c.39.39.9.59 1.41.59.51 0 1.02-.2 1.41-.59l7.78-7.78 2.81-2.81c.8-.78.8-2.07 0-2.86zM5.41 20L4 18.59l7.72-7.72 1.47 1.35L5.41 20z\"/>\n",
              "  </svg>\n",
              "      </button>\n",
              "      \n",
              "  <style>\n",
              "    .colab-df-container {\n",
              "      display:flex;\n",
              "      flex-wrap:wrap;\n",
              "      gap: 12px;\n",
              "    }\n",
              "\n",
              "    .colab-df-convert {\n",
              "      background-color: #E8F0FE;\n",
              "      border: none;\n",
              "      border-radius: 50%;\n",
              "      cursor: pointer;\n",
              "      display: none;\n",
              "      fill: #1967D2;\n",
              "      height: 32px;\n",
              "      padding: 0 0 0 0;\n",
              "      width: 32px;\n",
              "    }\n",
              "\n",
              "    .colab-df-convert:hover {\n",
              "      background-color: #E2EBFA;\n",
              "      box-shadow: 0px 1px 2px rgba(60, 64, 67, 0.3), 0px 1px 3px 1px rgba(60, 64, 67, 0.15);\n",
              "      fill: #174EA6;\n",
              "    }\n",
              "\n",
              "    [theme=dark] .colab-df-convert {\n",
              "      background-color: #3B4455;\n",
              "      fill: #D2E3FC;\n",
              "    }\n",
              "\n",
              "    [theme=dark] .colab-df-convert:hover {\n",
              "      background-color: #434B5C;\n",
              "      box-shadow: 0px 1px 3px 1px rgba(0, 0, 0, 0.15);\n",
              "      filter: drop-shadow(0px 1px 2px rgba(0, 0, 0, 0.3));\n",
              "      fill: #FFFFFF;\n",
              "    }\n",
              "  </style>\n",
              "\n",
              "      <script>\n",
              "        const buttonEl =\n",
              "          document.querySelector('#df-fa2a7582-47b5-4ebe-b771-876fdc4c53c7 button.colab-df-convert');\n",
              "        buttonEl.style.display =\n",
              "          google.colab.kernel.accessAllowed ? 'block' : 'none';\n",
              "\n",
              "        async function convertToInteractive(key) {\n",
              "          const element = document.querySelector('#df-fa2a7582-47b5-4ebe-b771-876fdc4c53c7');\n",
              "          const dataTable =\n",
              "            await google.colab.kernel.invokeFunction('convertToInteractive',\n",
              "                                                     [key], {});\n",
              "          if (!dataTable) return;\n",
              "\n",
              "          const docLinkHtml = 'Like what you see? Visit the ' +\n",
              "            '<a target=\"_blank\" href=https://colab.research.google.com/notebooks/data_table.ipynb>data table notebook</a>'\n",
              "            + ' to learn more about interactive tables.';\n",
              "          element.innerHTML = '';\n",
              "          dataTable['output_type'] = 'display_data';\n",
              "          await google.colab.output.renderOutput(dataTable, element);\n",
              "          const docLink = document.createElement('div');\n",
              "          docLink.innerHTML = docLinkHtml;\n",
              "          element.appendChild(docLink);\n",
              "        }\n",
              "      </script>\n",
              "    </div>\n",
              "  </div>\n",
              "  "
            ]
          },
          "metadata": {},
          "execution_count": 118
        }
      ]
    },
    {
      "cell_type": "code",
      "source": [
        "df_result['metode']"
      ],
      "metadata": {
        "colab": {
          "base_uri": "https://localhost:8080/"
        },
        "id": "hv9x3K7nZdzH",
        "outputId": "873a8d58-d2cd-4bdd-df62-17fcaf6fb0c3"
      },
      "execution_count": 119,
      "outputs": [
        {
          "output_type": "execute_result",
          "data": {
            "text/plain": [
              "0      Decision Tree\n",
              "1    Naive Bayessian\n",
              "2                KNN\n",
              "3                SVM\n",
              "Name: metode, dtype: object"
            ]
          },
          "metadata": {},
          "execution_count": 119
        }
      ]
    },
    {
      "cell_type": "code",
      "source": [
        "df_result['score']"
      ],
      "metadata": {
        "colab": {
          "base_uri": "https://localhost:8080/"
        },
        "id": "VVx4afOYaI_D",
        "outputId": "5076b2ed-914c-4c54-9607-70e01eab5582"
      },
      "execution_count": 120,
      "outputs": [
        {
          "output_type": "execute_result",
          "data": {
            "text/plain": [
              "0    88.33%\n",
              "1    91.67%\n",
              "2    78.33%\n",
              "3    90.00%\n",
              "Name: score, dtype: object"
            ]
          },
          "metadata": {},
          "execution_count": 120
        }
      ]
    },
    {
      "cell_type": "code",
      "source": [
        "\n",
        "import numpy as np\n",
        "import matplotlib.pyplot as plt\n",
        "\n",
        "labelChart = df_result['metode']\n",
        "scoreChart = df_result['score'].str.replace('%','').astype(np.float64) # Convert String to float\n",
        "colors=['#C94845', '#4958B5', '#49D845', '#777777']\n",
        "\n",
        "plt.title(\" Perbandingan Akurasi dari masing-masing metode \")\n",
        "plt.xlabel('Metode', fontweight='bold', color = 'orange', fontsize='17', horizontalalignment='center')\n",
        "plt.bar(labelChart, scoreChart, color=colors)\n",
        "plt.show\n",
        "\n",
        "\n",
        "\n",
        "\n"
      ],
      "metadata": {
        "colab": {
          "base_uri": "https://localhost:8080/",
          "height": 320
        },
        "id": "gq2Qcix1Wywd",
        "outputId": "8fddbbbf-4340-4eee-af10-e061ad9db95e"
      },
      "execution_count": 125,
      "outputs": [
        {
          "output_type": "execute_result",
          "data": {
            "text/plain": [
              "<function matplotlib.pyplot.show(*args, **kw)>"
            ]
          },
          "metadata": {},
          "execution_count": 125
        },
        {
          "output_type": "display_data",
          "data": {
            "text/plain": [
              "<Figure size 432x288 with 1 Axes>"
            ],
            "image/png": "[encoded data removed]"
          },
          "metadata": {
            "needs_background": "light"
          }
        }
      ]
    }
  ],
  "metadata": {
    "kernelspec": {
      "display_name": "Python 3.10.4 64-bit",
      "language": "python",
      "name": "python3"
    },
    "language_info": {
      "name": "python",
      "version": "3.10.4"
    },
    "orig_nbformat": 4,
    "vscode": {
      "interpreter": {
        "hash": "31f2aee4e71d21fbe5cf8b01ff0e069b9275f58929596ceb00d14d90e3e16cd6"
      }
    },
    "colab": {
      "provenance": [],
      "collapsed_sections": [
        "JgMp0uxVpXpP",
        "BeF9XfYY-jym",
        "Z-UpTI6opbsA",
        "OJLaCTPTpiDK",
        "HmKeaFQBZyjN",
        "UwcwsgcOK0eD",
        "e2IY4eQzna9E",
        "DWp5GGz5K4AS",
        "gwkgPKqFq_gr",
        "Cm8etbPXqnRC",
        "2NCoRsqlq_JB"
      ],
      "include_colab_link": true
    }
  },
  "nbformat": 4,
  "nbformat_minor": 0
}